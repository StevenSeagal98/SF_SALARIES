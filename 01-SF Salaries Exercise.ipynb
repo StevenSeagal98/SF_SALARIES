{
 "cells": [
  {
   "cell_type": "markdown",
   "metadata": {},
   "source": [
    "___\n",
    "\n",
    "<a href='http://www.pieriandata.com'> <img src='../../Pierian_Data_Logo.png' /></a>\n",
    "___"
   ]
  },
  {
   "cell_type": "markdown",
   "metadata": {},
   "source": [
    "# SF Salaries Exercise \n",
    "\n",
    "Welcome to a quick exercise for you to practice your pandas skills! We will be using the [SF Salaries Dataset](https://www.kaggle.com/kaggle/sf-salaries) from Kaggle! Just follow along and complete the tasks outlined in bold below. The tasks will get harder and harder as you go along."
   ]
  },
  {
   "cell_type": "markdown",
   "metadata": {},
   "source": [
    "** Import pandas as pd.**"
   ]
  },
  {
   "cell_type": "code",
   "execution_count": 9,
   "metadata": {},
   "outputs": [
    {
     "name": "stdout",
     "output_type": "stream",
     "text": [
      "<module 'pandas' from 'C:\\\\Users\\\\natha\\\\anaconda3\\\\lib\\\\site-packages\\\\pandas\\\\__init__.py'>\n"
     ]
    }
   ],
   "source": [
    "import pandas as pd\n",
    "import numpy as np"
   ]
  },
  {
   "cell_type": "markdown",
   "metadata": {},
   "source": [
    "** Read Salaries.csv as a dataframe called sal.**"
   ]
  },
  {
   "cell_type": "code",
   "execution_count": 22,
   "metadata": {},
   "outputs": [
    {
     "name": "stdout",
     "output_type": "stream",
     "text": [
      "            Id       EmployeeName  \\\n",
      "0            1     NATHANIEL FORD   \n",
      "1            2       GARY JIMENEZ   \n",
      "2            3     ALBERT PARDINI   \n",
      "3            4  CHRISTOPHER CHONG   \n",
      "4            5    PATRICK GARDNER   \n",
      "...        ...                ...   \n",
      "148649  148650      Roy I Tillery   \n",
      "148650  148651       Not provided   \n",
      "148651  148652       Not provided   \n",
      "148652  148653       Not provided   \n",
      "148653  148654          Joe Lopez   \n",
      "\n",
      "                                              JobTitle    BasePay  \\\n",
      "0       GENERAL MANAGER-METROPOLITAN TRANSIT AUTHORITY  167411.18   \n",
      "1                      CAPTAIN III (POLICE DEPARTMENT)  155966.02   \n",
      "2                      CAPTAIN III (POLICE DEPARTMENT)  212739.13   \n",
      "3                 WIRE ROPE CABLE MAINTENANCE MECHANIC   77916.00   \n",
      "4         DEPUTY CHIEF OF DEPARTMENT,(FIRE DEPARTMENT)  134401.60   \n",
      "...                                                ...        ...   \n",
      "148649                                       Custodian       0.00   \n",
      "148650                                    Not provided        NaN   \n",
      "148651                                    Not provided        NaN   \n",
      "148652                                    Not provided        NaN   \n",
      "148653                      Counselor, Log Cabin Ranch       0.00   \n",
      "\n",
      "        OvertimePay   OtherPay  Benefits   TotalPay  TotalPayBenefits  Year  \\\n",
      "0              0.00  400184.25       NaN  567595.43         567595.43  2011   \n",
      "1         245131.88  137811.38       NaN  538909.28         538909.28  2011   \n",
      "2         106088.18   16452.60       NaN  335279.91         335279.91  2011   \n",
      "3          56120.71  198306.90       NaN  332343.61         332343.61  2011   \n",
      "4           9737.00  182234.59       NaN  326373.19         326373.19  2011   \n",
      "...             ...        ...       ...        ...               ...   ...   \n",
      "148649         0.00       0.00       0.0       0.00              0.00  2014   \n",
      "148650          NaN        NaN       NaN       0.00              0.00  2014   \n",
      "148651          NaN        NaN       NaN       0.00              0.00  2014   \n",
      "148652          NaN        NaN       NaN       0.00              0.00  2014   \n",
      "148653         0.00    -618.13       0.0    -618.13           -618.13  2014   \n",
      "\n",
      "        Notes         Agency  Status  \n",
      "0         NaN  San Francisco     NaN  \n",
      "1         NaN  San Francisco     NaN  \n",
      "2         NaN  San Francisco     NaN  \n",
      "3         NaN  San Francisco     NaN  \n",
      "4         NaN  San Francisco     NaN  \n",
      "...       ...            ...     ...  \n",
      "148649    NaN  San Francisco     NaN  \n",
      "148650    NaN  San Francisco     NaN  \n",
      "148651    NaN  San Francisco     NaN  \n",
      "148652    NaN  San Francisco     NaN  \n",
      "148653    NaN  San Francisco     NaN  \n",
      "\n",
      "[148654 rows x 13 columns]\n"
     ]
    }
   ],
   "source": [
    "sal = pd.read_csv('Salaries.csv')\n",
    "print(sal)"
   ]
  },
  {
   "cell_type": "markdown",
   "metadata": {},
   "source": [
    "** Check the head of the DataFrame. **"
   ]
  },
  {
   "cell_type": "code",
   "execution_count": 21,
   "metadata": {},
   "outputs": [
    {
     "data": {
      "text/html": [
       "<div>\n",
       "<style scoped>\n",
       "    .dataframe tbody tr th:only-of-type {\n",
       "        vertical-align: middle;\n",
       "    }\n",
       "\n",
       "    .dataframe tbody tr th {\n",
       "        vertical-align: top;\n",
       "    }\n",
       "\n",
       "    .dataframe thead th {\n",
       "        text-align: right;\n",
       "    }\n",
       "</style>\n",
       "<table border=\"1\" class=\"dataframe\">\n",
       "  <thead>\n",
       "    <tr style=\"text-align: right;\">\n",
       "      <th></th>\n",
       "      <th>Id</th>\n",
       "      <th>EmployeeName</th>\n",
       "      <th>JobTitle</th>\n",
       "      <th>BasePay</th>\n",
       "      <th>OvertimePay</th>\n",
       "      <th>OtherPay</th>\n",
       "      <th>Benefits</th>\n",
       "      <th>TotalPay</th>\n",
       "      <th>TotalPayBenefits</th>\n",
       "      <th>Year</th>\n",
       "      <th>Notes</th>\n",
       "      <th>Agency</th>\n",
       "      <th>Status</th>\n",
       "    </tr>\n",
       "  </thead>\n",
       "  <tbody>\n",
       "    <tr>\n",
       "      <th>0</th>\n",
       "      <td>1</td>\n",
       "      <td>NATHANIEL FORD</td>\n",
       "      <td>GENERAL MANAGER-METROPOLITAN TRANSIT AUTHORITY</td>\n",
       "      <td>167411.18</td>\n",
       "      <td>0.00</td>\n",
       "      <td>400184.25</td>\n",
       "      <td>NaN</td>\n",
       "      <td>567595.43</td>\n",
       "      <td>567595.43</td>\n",
       "      <td>2011</td>\n",
       "      <td>NaN</td>\n",
       "      <td>San Francisco</td>\n",
       "      <td>NaN</td>\n",
       "    </tr>\n",
       "    <tr>\n",
       "      <th>1</th>\n",
       "      <td>2</td>\n",
       "      <td>GARY JIMENEZ</td>\n",
       "      <td>CAPTAIN III (POLICE DEPARTMENT)</td>\n",
       "      <td>155966.02</td>\n",
       "      <td>245131.88</td>\n",
       "      <td>137811.38</td>\n",
       "      <td>NaN</td>\n",
       "      <td>538909.28</td>\n",
       "      <td>538909.28</td>\n",
       "      <td>2011</td>\n",
       "      <td>NaN</td>\n",
       "      <td>San Francisco</td>\n",
       "      <td>NaN</td>\n",
       "    </tr>\n",
       "    <tr>\n",
       "      <th>2</th>\n",
       "      <td>3</td>\n",
       "      <td>ALBERT PARDINI</td>\n",
       "      <td>CAPTAIN III (POLICE DEPARTMENT)</td>\n",
       "      <td>212739.13</td>\n",
       "      <td>106088.18</td>\n",
       "      <td>16452.60</td>\n",
       "      <td>NaN</td>\n",
       "      <td>335279.91</td>\n",
       "      <td>335279.91</td>\n",
       "      <td>2011</td>\n",
       "      <td>NaN</td>\n",
       "      <td>San Francisco</td>\n",
       "      <td>NaN</td>\n",
       "    </tr>\n",
       "    <tr>\n",
       "      <th>3</th>\n",
       "      <td>4</td>\n",
       "      <td>CHRISTOPHER CHONG</td>\n",
       "      <td>WIRE ROPE CABLE MAINTENANCE MECHANIC</td>\n",
       "      <td>77916.00</td>\n",
       "      <td>56120.71</td>\n",
       "      <td>198306.90</td>\n",
       "      <td>NaN</td>\n",
       "      <td>332343.61</td>\n",
       "      <td>332343.61</td>\n",
       "      <td>2011</td>\n",
       "      <td>NaN</td>\n",
       "      <td>San Francisco</td>\n",
       "      <td>NaN</td>\n",
       "    </tr>\n",
       "    <tr>\n",
       "      <th>4</th>\n",
       "      <td>5</td>\n",
       "      <td>PATRICK GARDNER</td>\n",
       "      <td>DEPUTY CHIEF OF DEPARTMENT,(FIRE DEPARTMENT)</td>\n",
       "      <td>134401.60</td>\n",
       "      <td>9737.00</td>\n",
       "      <td>182234.59</td>\n",
       "      <td>NaN</td>\n",
       "      <td>326373.19</td>\n",
       "      <td>326373.19</td>\n",
       "      <td>2011</td>\n",
       "      <td>NaN</td>\n",
       "      <td>San Francisco</td>\n",
       "      <td>NaN</td>\n",
       "    </tr>\n",
       "  </tbody>\n",
       "</table>\n",
       "</div>"
      ],
      "text/plain": [
       "   Id       EmployeeName                                        JobTitle  \\\n",
       "0   1     NATHANIEL FORD  GENERAL MANAGER-METROPOLITAN TRANSIT AUTHORITY   \n",
       "1   2       GARY JIMENEZ                 CAPTAIN III (POLICE DEPARTMENT)   \n",
       "2   3     ALBERT PARDINI                 CAPTAIN III (POLICE DEPARTMENT)   \n",
       "3   4  CHRISTOPHER CHONG            WIRE ROPE CABLE MAINTENANCE MECHANIC   \n",
       "4   5    PATRICK GARDNER    DEPUTY CHIEF OF DEPARTMENT,(FIRE DEPARTMENT)   \n",
       "\n",
       "     BasePay  OvertimePay   OtherPay  Benefits   TotalPay  TotalPayBenefits  \\\n",
       "0  167411.18         0.00  400184.25       NaN  567595.43         567595.43   \n",
       "1  155966.02    245131.88  137811.38       NaN  538909.28         538909.28   \n",
       "2  212739.13    106088.18   16452.60       NaN  335279.91         335279.91   \n",
       "3   77916.00     56120.71  198306.90       NaN  332343.61         332343.61   \n",
       "4  134401.60      9737.00  182234.59       NaN  326373.19         326373.19   \n",
       "\n",
       "   Year  Notes         Agency  Status  \n",
       "0  2011    NaN  San Francisco     NaN  \n",
       "1  2011    NaN  San Francisco     NaN  \n",
       "2  2011    NaN  San Francisco     NaN  \n",
       "3  2011    NaN  San Francisco     NaN  \n",
       "4  2011    NaN  San Francisco     NaN  "
      ]
     },
     "execution_count": 21,
     "metadata": {},
     "output_type": "execute_result"
    }
   ],
   "source": [
    "sal.head()"
   ]
  },
  {
   "cell_type": "markdown",
   "metadata": {},
   "source": [
    "** Use the .info() method to find out how many entries there are.**"
   ]
  },
  {
   "cell_type": "code",
   "execution_count": 9,
   "metadata": {},
   "outputs": [
    {
     "name": "stdout",
     "output_type": "stream",
     "text": [
      "<class 'pandas.core.frame.DataFrame'>\n",
      "RangeIndex: 148654 entries, 0 to 148653\n",
      "Data columns (total 13 columns):\n",
      "Id                  148654 non-null int64\n",
      "EmployeeName        148654 non-null object\n",
      "JobTitle            148654 non-null object\n",
      "BasePay             148045 non-null float64\n",
      "OvertimePay         148650 non-null float64\n",
      "OtherPay            148650 non-null float64\n",
      "Benefits            112491 non-null float64\n",
      "TotalPay            148654 non-null float64\n",
      "TotalPayBenefits    148654 non-null float64\n",
      "Year                148654 non-null int64\n",
      "Notes               0 non-null float64\n",
      "Agency              148654 non-null object\n",
      "Status              0 non-null float64\n",
      "dtypes: float64(8), int64(2), object(3)\n",
      "memory usage: 14.7+ MB\n"
     ]
    }
   ],
   "source": [
    "sal.info()"
   ]
  },
  {
   "cell_type": "markdown",
   "metadata": {},
   "source": [
    "**What is the average BasePay ?**"
   ]
  },
  {
   "cell_type": "code",
   "execution_count": 23,
   "metadata": {},
   "outputs": [
    {
     "data": {
      "text/plain": [
       "66325.44884050643"
      ]
     },
     "execution_count": 23,
     "metadata": {},
     "output_type": "execute_result"
    }
   ],
   "source": [
    "sal['BasePay'].mean()"
   ]
  },
  {
   "cell_type": "markdown",
   "metadata": {},
   "source": [
    "** What is the highest amount of OvertimePay in the dataset ? **"
   ]
  },
  {
   "cell_type": "code",
   "execution_count": 24,
   "metadata": {},
   "outputs": [
    {
     "data": {
      "text/plain": [
       "245131.88"
      ]
     },
     "execution_count": 24,
     "metadata": {},
     "output_type": "execute_result"
    }
   ],
   "source": [
    "sal['OvertimePay'].max()"
   ]
  },
  {
   "cell_type": "markdown",
   "metadata": {},
   "source": [
    "** What is the job title of  JOSEPH DRISCOLL ? Note: Use all caps, otherwise you may get an answer that doesn't match up (there is also a lowercase Joseph Driscoll). **"
   ]
  },
  {
   "cell_type": "code",
   "execution_count": 25,
   "metadata": {},
   "outputs": [
    {
     "data": {
      "text/plain": [
       "24    CAPTAIN, FIRE SUPPRESSION\n",
       "Name: JobTitle, dtype: object"
      ]
     },
     "execution_count": 25,
     "metadata": {},
     "output_type": "execute_result"
    }
   ],
   "source": [
    "sal[sal['EmployeeName'] == 'JOSEPH DRISCOLL']['JobTitle']"
   ]
  },
  {
   "cell_type": "markdown",
   "metadata": {},
   "source": [
    "** How much does JOSEPH DRISCOLL make (including benefits)? **"
   ]
  },
  {
   "cell_type": "code",
   "execution_count": 26,
   "metadata": {},
   "outputs": [
    {
     "data": {
      "text/plain": [
       "24    270324.91\n",
       "Name: TotalPayBenefits, dtype: float64"
      ]
     },
     "execution_count": 26,
     "metadata": {},
     "output_type": "execute_result"
    }
   ],
   "source": [
    "sal[sal['EmployeeName'] == 'JOSEPH DRISCOLL']['TotalPayBenefits']"
   ]
  },
  {
   "cell_type": "markdown",
   "metadata": {},
   "source": [
    "** What is the name of highest paid person (including benefits)?**"
   ]
  },
  {
   "cell_type": "code",
   "execution_count": 27,
   "metadata": {},
   "outputs": [
    {
     "data": {
      "text/plain": [
       "Id                                                               1\n",
       "EmployeeName                                        NATHANIEL FORD\n",
       "JobTitle            GENERAL MANAGER-METROPOLITAN TRANSIT AUTHORITY\n",
       "BasePay                                                  167411.18\n",
       "OvertimePay                                                    0.0\n",
       "OtherPay                                                 400184.25\n",
       "Benefits                                                       NaN\n",
       "TotalPay                                                 567595.43\n",
       "TotalPayBenefits                                         567595.43\n",
       "Year                                                          2011\n",
       "Notes                                                          NaN\n",
       "Agency                                               San Francisco\n",
       "Status                                                         NaN\n",
       "Name: 0, dtype: object"
      ]
     },
     "execution_count": 27,
     "metadata": {},
     "output_type": "execute_result"
    }
   ],
   "source": [
    "sal.iloc[sal['TotalPayBenefits'].idxmax()]"
   ]
  },
  {
   "cell_type": "markdown",
   "metadata": {},
   "source": [
    "** What is the name of lowest paid person (including benefits)? Do you notice something strange about how much he or she is paid?**"
   ]
  },
  {
   "cell_type": "code",
   "execution_count": 28,
   "metadata": {},
   "outputs": [
    {
     "data": {
      "text/plain": [
       "Id                                      148654\n",
       "EmployeeName                         Joe Lopez\n",
       "JobTitle            Counselor, Log Cabin Ranch\n",
       "BasePay                                    0.0\n",
       "OvertimePay                                0.0\n",
       "OtherPay                               -618.13\n",
       "Benefits                                   0.0\n",
       "TotalPay                               -618.13\n",
       "TotalPayBenefits                       -618.13\n",
       "Year                                      2014\n",
       "Notes                                      NaN\n",
       "Agency                           San Francisco\n",
       "Status                                     NaN\n",
       "Name: 148653, dtype: object"
      ]
     },
     "execution_count": 28,
     "metadata": {},
     "output_type": "execute_result"
    }
   ],
   "source": [
    "sal.iloc[sal['TotalPayBenefits'].idxmin()]"
   ]
  },
  {
   "cell_type": "markdown",
   "metadata": {},
   "source": [
    "** What was the average (mean) BasePay of all employees per year? (2011-2014) ? **"
   ]
  },
  {
   "cell_type": "code",
   "execution_count": 29,
   "metadata": {},
   "outputs": [
    {
     "data": {
      "text/plain": [
       "Year\n",
       "2011    63595.956517\n",
       "2012    65436.406857\n",
       "2013    69630.030216\n",
       "2014    66564.421924\n",
       "Name: BasePay, dtype: float64"
      ]
     },
     "execution_count": 29,
     "metadata": {},
     "output_type": "execute_result"
    }
   ],
   "source": [
    "sal.groupby('Year')['BasePay'].mean()"
   ]
  },
  {
   "cell_type": "markdown",
   "metadata": {},
   "source": [
    "** How many unique job titles are there? **"
   ]
  },
  {
   "cell_type": "code",
   "execution_count": 32,
   "metadata": {},
   "outputs": [
    {
     "data": {
      "text/plain": [
       "2159"
      ]
     },
     "execution_count": 32,
     "metadata": {},
     "output_type": "execute_result"
    }
   ],
   "source": [
    "sal['JobTitle'].nunique()"
   ]
  },
  {
   "cell_type": "markdown",
   "metadata": {},
   "source": [
    "** What are the top 5 most common jobs? **"
   ]
  },
  {
   "cell_type": "code",
   "execution_count": 33,
   "metadata": {},
   "outputs": [
    {
     "data": {
      "text/plain": [
       "Transit Operator                7036\n",
       "Special Nurse                   4389\n",
       "Registered Nurse                3736\n",
       "Public Svc Aide-Public Works    2518\n",
       "Police Officer 3                2421\n",
       "Name: JobTitle, dtype: int64"
      ]
     },
     "execution_count": 33,
     "metadata": {},
     "output_type": "execute_result"
    }
   ],
   "source": [
    "sal['JobTitle'].value_counts().head()"
   ]
  },
  {
   "cell_type": "markdown",
   "metadata": {},
   "source": [
    "** How many Job Titles were represented by only one person in 2013? (e.g. Job Titles with only one occurence in 2013?) **"
   ]
  },
  {
   "cell_type": "code",
   "execution_count": 34,
   "metadata": {},
   "outputs": [
    {
     "data": {
      "text/plain": [
       "202"
      ]
     },
     "execution_count": 34,
     "metadata": {},
     "output_type": "execute_result"
    }
   ],
   "source": [
    "sum(sal[sal['Year'] == 2013]['JobTitle'].value_counts() == 1)"
   ]
  },
  {
   "cell_type": "markdown",
   "metadata": {},
   "source": [
    "** How many people have the word Chief in their job title? (This is pretty tricky) **"
   ]
  },
  {
   "cell_type": "code",
   "execution_count": 37,
   "metadata": {},
   "outputs": [
    {
     "data": {
      "text/plain": [
       "627"
      ]
     },
     "execution_count": 37,
     "metadata": {},
     "output_type": "execute_result"
    }
   ],
   "source": [
    "sum(sal['JobTitle'].str.lower().str.contains('chief'))"
   ]
  },
  {
   "cell_type": "code",
   "execution_count": 21,
   "metadata": {},
   "outputs": [
    {
     "data": {
      "text/plain": [
       "477"
      ]
     },
     "execution_count": 21,
     "metadata": {},
     "output_type": "execute_result"
    }
   ],
   "source": []
  },
  {
   "cell_type": "markdown",
   "metadata": {},
   "source": [
    "** Bonus: Is there a correlation between length of the Job Title string and Salary? **"
   ]
  },
  {
   "cell_type": "code",
   "execution_count": 53,
   "metadata": {},
   "outputs": [
    {
     "name": "stdout",
     "output_type": "stream",
     "text": [
      "{'GENERAL MANAGER-METROPOLITAN TRANSIT AUTHORITY': 46, 'CAPTAIN III (POLICE DEPARTMENT)': 31, 'WIRE ROPE CABLE MAINTENANCE MECHANIC': 36, 'DEPUTY CHIEF OF DEPARTMENT,(FIRE DEPARTMENT)': 44, 'ASSISTANT DEPUTY CHIEF II': 25, 'BATTALION CHIEF, (FIRE DEPARTMENT)': 34, 'DEPUTY DIRECTOR OF INVESTMENTS': 30, 'CHIEF OF DEPARTMENT, (FIRE DEPARTMENT)': 38, 'ASSISTANT CHIEF OF DEPARTMENT, (FIRE DEPARTMENT)': 48, 'EXECUTIVE CONTRACT EMPLOYEE': 27, 'DEPARTMENT HEAD V': 17, 'COMMANDER III, (POLICE DEPARTMENT)': 34, 'CAPTAIN, EMERGENCYCY MEDICAL SERVICES': 37, 'ASSISTANT MEDICAL EXAMINER': 26, 'CAPTAIN, FIRE SUPPRESSION': 25, 'CHIEF OF POLICE': 15, 'DEPUTY CHIEF III (POLICE DEPARTMENT)': 36, 'INSPECTOR III, (POLICE DEPARTMENT)': 34, 'ELECTRONIC MAINTENANCE TECHNICIAN': 33, 'ADMINISTRATOR, SFGH MEDICAL CENTER': 34, 'LIEUTENANT III (POLICE DEPARTMENT)': 34, 'FIREFIGHTER': 11, 'NURSING SUPERVISOR PSYCHIATRIC': 30, 'MAYOR': 5, 'LIEUTENANT, FIRE DEPARTMENT': 27, 'INCIDENT SUPPORT SPECIALIST': 27, 'ANESTHETIST': 11, 'DISTRICT ATTORNEY': 17, 'ELECTRICAL TRANSIT MECHANIC, ASSISTANT SUPERVISOR': 49, 'PORT DIRECTOR': 13, 'LIEUTENANT, BUREAU OF FIRE PREVENTION AND PUBLIC S': 50, 'SENIOR PHYSICIAN SPECIALIST': 27, 'FIRE FIGHTER PARAMEDIC': 22, 'MANAGER VII': 11, 'TRANSIT SUPERVISOR': 18, 'INSPECTOR, BUREAU OF FIRE PREVENTION AND PUBLIC SA': 50, 'MANAGER VIII': 12, 'DEPUTY DIRECTOR II - MUNICIPAL TRANSPORTATION AG': 48, 'NURSING SUPERVISOR': 18, 'POLICE OFFICER III': 18, \"SHERIFF'S LIEUTENANT\": 20, 'DEPUTY DIRECTOR V': 17, 'SUPERVISING PHYSICIAN SPECIALIST': 32, 'DEPARTMENT HEAD IV': 18, 'FORENSIC TOXICOLOGIST': 21, 'CONFIDENTIAL CHIEF ATTORNEY II (CIVIL & CRIMINAL)': 49, 'SERGEANT III (POLICE DEPARTMENT)': 32, 'DEPUTY SHERIFF': 14, 'NURSE MANAGER': 13, 'ELECTRICAL TRANSIT SYSTEM MECHANIC': 34, 'CITY ATTORNEY': 13, 'MARINE ENGINEER OF FIRE BOATS': 29, 'CHIEF ATTORNEY I (CIVIL & CRIMINAL)': 35, 'CAPTAIN, BUREAU OF FIRE PREVENTION AND PUBLIC SAFE': 50, 'ELECTRICAL TRANSIT SHOP SUPERVISOR I': 36, 'POLICE OFFICER I': 16, 'POLICE OFFICER II': 17, 'SERGEANT I (POLICE DEPARTMENT)': 30, 'SPECIAL ASSISTANT XXII': 22, 'DEPUTY DIRECTOR IV': 18, 'WIRE ROPE CABLE MAINTENANCE SUPERVISOR': 38, 'PUBLIC DEFENDER': 15, 'SHERIFF': 7, 'HUMAN RESOURCES DIRECTOR': 24, 'INVESTIGATOR, BUREAU OF FIRE INVESTIGATION': 42, 'ASSISTANT CHIEF ATTORNEY II': 27, 'DEPUTY DIRECTOR III': 19, 'PHARMACIST': 10, 'TRANSIT OPERATIONS SPECIALIST': 29, 'DEPARTMENT HEAD III': 19, 'CHIEF PROBATION OFFICER, JUVENILE COURT': 39, \"SHERIFF'S SERGEANT\": 18, 'ASSISTANT INSPECTOR (POLICE DEPARTMENT)': 39, 'DIAGNOSTIC IMAGING TECH II': 26, 'DIAGNOSTIC IMAGING TECH III': 27, 'CHIEF ADULT PROBATION OFFICER': 29, 'MANAGER VI': 10, 'FIRE SAFETY INSPECTOR II': 24, 'MAINTENANCE MACHINIST': 21, 'ASSISTANT INSPECTOR III (POLICE DEPARTMENT)': 43, 'DEPUTY DIRECTOR I - MUNICIPAL TRANSPORTATION AGE': 48, 'DIRECTOR, EMPLOYEE RELATIONS DIVISION': 37, 'ASSISTANT CHIEF ATTORNEY I': 26, 'TRAIN CONTROLLER': 16, 'PHYSICIAN ASSISTANT': 19, 'PHYSICIAN SPECIALIST': 20, 'AUTOMOTIVE MECHANIC SUPERVISOR I': 32, 'ATTORNEY (CIVIL/CRIMINAL)': 25, 'SERGEANT II (POLICE DEPARTMENT)': 31, 'ELECTRICIAN': 11, 'NURSE PRACTITIONER': 18, 'MECHANICAL SHOP AND EQUIPMENT SUPERINTENDENT': 44, 'HEAD ATTORNEY, CIVIL AND CRIMINAL': 33, 'PRINCIPAL CIVIL ENGINEER': 24, 'ASSOCIATE ENGINEER': 18, 'PROJECT MANAGER IV': 18, 'PILOT OF FIRE BOATS': 19, 'DEPARTMENT HEAD I': 17, 'SENIOR ENGINEER': 15, 'COURT EXECUTIVE OFFICER': 23, 'ENGINEER': 8, 'ASSISTANT SHERIFF': 17, 'BUILDINGS AND GROUNDS MAINTENANCE SUPERINTENDENT': 48, 'ELECTRONIC MAINTENANCE TECHNICIAN ASSISTANT SUPERV': 50, 'CLINICAL PHARMACIST': 19, 'DEPARTMENT HEAD II': 18, 'CLINICAL NURSE SPECIALIST': 25, 'NURSE MIDWIFE': 13, 'ELECTRICAL TRANSIT MECHANIC SUPERVISOR I': 40, 'MANAGER V': 9, 'ATTORNEY FOR THE PUBLIC ADMINISTRATOR': 37, 'CHIEF DEPUTY SHERIFF': 20, 'SENIOR DEPUTY SHERIFF': 21, 'PROJECT MANAGER III': 19, 'TRACK MAINTENANCE WORKER SUPERVISOR I': 37, 'MAYORAL STAFF XVII': 18, 'MANAGER VII - MUNICIPAL TRANSPORTATION AGENCY': 45, 'HEATING AND VENTILATING INSPECTOR': 33, 'ASST. CHIEF PROBATION OFFICER-JUVENILE PROBATION': 48, 'DIRECTOR, INFORMATION TECHNOLOGY GROUP': 38, 'UTILITY PLUMBER SUPERVISOR II': 29, 'COMMUNICATIONS LINE WORKER SUPERVISOR II': 40, 'ASSISTANT INSPECTOR II (POLICE DEPARTMENT)': 42, 'ASSESSOR': 8, 'MANAGER VIII - MUNICIPAL TRANSPORTATION AGENCY': 46, 'MANAGER IV': 10, 'INSPECTOR, (POLICE DEPARTMENT)': 30, 'IS ENGINEER - PRINCIPAL': 23, 'REGISTERED NURSE': 16, 'SPECIAL NURSE': 13, 'INFORMATION SERVICES MANAGER': 28, 'TRANSMISSION LINE SUPERVISOR I': 30, 'SUPERVISING PHARMACIST': 22, 'SEWAGE TREATMENT PLANT SUPERINTENDENT': 37, 'TREASURER': 9, 'SENIOR POWER GENERATION TECHNICIAN': 34, 'DEPUTY DIRECTOR II': 18, \"CHIEF DISTRICT ATTORNEY'S INVESTIGATOR\": 38, 'LANDSCAPE ARCHITECTURAL ASSOCIATE II': 36, 'ARCHITECTURAL ASSOCIATE  I': 26, 'LANDSCAPE ARCHITECT': 19, 'ARCHITECT': 9, 'STATIONARY ENGINEER': 19, 'PLUMBING INSPECTOR': 18, 'AUTOMOTIVE MECHANIC': 19, 'CHIEF STATIONARY ENGINEER': 25, 'SENIOR COURT STAFF ATTORNEY': 27, 'HEAD PARK PATROL OFFICER': 24, 'UNDERSHERIFF': 12, 'ASSISTANT ELECTRONIC MAINTENANCE TECHNICIAN': 43, \"SHERIFF'S CAPTAIN\": 17, 'MANAGER III': 11, 'BOARD SECRETARY - MUNICIPAL TRANSPORTATION AGENC': 48, 'WATER CONSTRUCTION AND MAINTENANCE SUPERINTENDENT': 49, 'LIEUTENANT I, (POLICE DEPARTMENT)': 33, 'LIEUTENANT II (POLICE DEPARTMENT)': 33, 'DIAGNOSTIC IMAGING TECH I': 25, 'MANAGER II - MUNICIPAL TRANSPORTATION AGENCY': 44, 'MANAGER VI - MUNICIPAL TRANSPORTATION AGENCY': 44, 'ATTORNEY, TAX COLLECTOR': 23, 'COURT COMMISSIONER': 18, 'PRINCIPAL ADMINISTRATIVE ANALYST': 32, 'SENIOR RADIO TECHNICIAN': 23, 'ADMINISTRATIVE ENGINEER': 23, 'BUILDING INSPECTOR': 18, 'CHIEF WATER SERVICE INSPECTOR': 29, 'POWER GENERATION SUPERVISOR': 27, 'TRANSIT OPERATOR': 16, 'UTILITY PLUMBER SUPERVISOR I': 28, 'RADIOLOGIC TECHNOLOGIST SUPERVISOR': 34, 'DENTIST': 7, 'BUILDING PLANS ENGINEER': 23, 'INSPECTOR II, (POLICE DEPARTMENT)': 33, 'TELECOMMUNICATIONS TECHNICIAN SUPERVISOR': 40, 'SUPERVISING ELECTRONIC MAINTENANCE TECHNICIAN': 45, 'INSTITUTIONAL POLICE SERGEANT': 29, 'TRANSIT POWER LINE SUPERVISOR I': 31, 'SENIOR COUNSELOR, JUVENILE HALL': 31, 'COURT ADMINISTRATOR': 19, 'PLUMBER SUPERVISOR I': 20, 'COURT COMPUTER SYSTEMS MANAGER': 30, 'SENIOR CONSTRUCTION INSPECTOR': 29, 'CRIMINALIST III': 15, 'TRANSIT POWER LINE WORKER': 25, 'SEWER REPAIR SUPERVISOR': 23, 'SENIOR LIGHT RAIL VEHICLE EQUIPMENT ENGINEER': 44, 'TRANSMISSION AND DISTRIBUTION LINE WORKER': 41, 'MANAGER II': 10, 'ARCHITECTURAL ASSOCIATE II': 26, 'AUTOMOTIVE TRANSIT SHOP SUPERVISOR I': 36, 'MANAGER V - MUNICIPAL TRANSPORTATION AGENCY': 43, 'IS PROJECT DIRECTOR': 19, 'TRANSIT CAR CLEANER': 19, 'CHIEF STATIONARY ENGINEER, WATER TREATMENT PLANT': 48, 'PLUMBER': 7, 'DISABILITY ACCESS COORDINATOR': 29, 'AUTOMOTIVE MECHANIC ASSISTANT SUPERVISOR': 40, 'AUTOMOTIVE MACHINIST ASSISTANT SUPERVISOR': 41, 'LAW LIBRARIAN': 13, 'PROJECT MANAGER II': 18, 'SENIOR STATIONARY ENGINEER': 26, 'TRANSIT POWER LINE WORKER SUPERVISOR II': 39, 'ASST. CHIEF, BUREAU OF CLAIMS INVEST. & ADMIN': 45, 'IS BUSINESS ANALYST - PRINCIPAL': 31, 'POWER GENERATION TECHNICIAN II': 30, 'CABLE SPLICER': 13, 'CONSTRUCTION INSPECTOR': 22, 'IS ENGINEER - SENIOR': 20, 'PLANNER V': 9, 'CRIME LABORATORY MANAGER': 24, 'SHEET METAL WORKER SUPERVISOR II': 32, 'COMMUNICATIONS SYSTEMS TECHNICIAN': 33, 'IS ENGINEER - JOURNEY': 21, 'SUPERINTENDENT OF WATER TREATMENT FACILITIES': 44, 'STATION AGENT, MUNICIPAL RAILWAY': 32, 'STRUCTURAL ENGINEER': 19, 'PUBLIC HEALTH NURSE': 19, 'COURT STAFF ATTORNEY II': 23, 'HEAD AIRPORT ELECTRICIAN': 24, 'ASSISTANT DIRECTOR OF CLINICAL SERVICES II': 42, 'FIRE PROTECTION ENGINEER': 24, 'SPECIAL ASSISTANT XVI': 21, 'ASSISTANT DEPUTY DIRECTOR, PORT': 31, 'FIRE RESCUE PARAMEDIC': 21, 'DIRECTOR, FISCAL SERVICES': 25, \"DISTRICT ATTORNEY'S INVESTIGATOR\": 32, 'TRANSIT PAINT SHOP SUPERVISOR I': 31, 'ELECTRICIAN SUPERVISOR II': 25, \"PRINCIPAL DISTRICT ATTORNEY'S INVESTIGATOR\": 42, 'BUILDINGS AND GROUNDS MAINTENANCE SUPERVISOR': 44, 'SENIOR WATER SERVICE INSPECTOR': 30, 'IS BUSINESS ANALYST - SENIOR': 28, 'MAINTENANCE CONTROLLER': 22, 'ELECTRICIAN SUPERVISOR I': 24, 'MANAGER, EMPLOYEE RELATIONS DIV': 31, 'TRAFFIC HEARING OFFICER': 23, 'ASSISTANT ENGINEER': 18, 'LANDSCAPE ARCHITECTURAL ASSOCIATE I': 35, 'CHIEF BUILDING INSPECTOR': 24, 'MAINTENANCE MACHINIST SUPERVISOR I': 34, 'MANAGER IV - MUNICIPAL TRANSPORTATION AGENCY': 44, 'UTILITY PLUMBER': 15, 'SENIOR ELECTRICAL INSPECTOR': 27, 'ELECTRICAL INSPECTOR': 20, 'SENIOR STATIONARY ENGINEER, WATER TREATMENT PLANT': 49, 'COMMUNICATION LINE SUPERVISOR I': 31, 'ELECTRICAL LINE WORKER': 22, 'MAYORAL STAFF XVI': 17, 'AIRPORT MECHANICAL MAINTENANCE SUPERVISOR': 41, 'COURT REPORTER COORDINATOR': 26, 'CHIEF PLUMBING INSPECTOR': 24, 'OPERATING ROOM NURSE': 20, 'WELDER': 6, 'MENTAL HEALTH TREATMENT SPECIALIST': 34, 'TRANSPORTATION SAFETY SPECIALIST': 32, 'SENIOR POLICE COMMUNICATIONS DISPATCHER': 39, 'UTILITY SPECIALIST': 18, 'CEMENT FINISHER SUPERVISOR II': 29, 'ASSISTANT COURT REPORTER COORDINATOR': 36, 'PRINCIPAL REAL PROPERTY OFFICER': 31, 'RESEARCH PSYCHOLOGIST': 21, 'LOCKSMITH SUPERVISOR I': 22, 'SUPERVISING CHEMIST': 19, 'SENIOR PLUMBING INSPECTOR': 25, 'OPERATING ENGINEER, UNIVERSAL': 29, 'LABORATORY SERVICES MANAGER': 27, 'MANAGER I': 9, 'MANAGER, UNIFIED FAMILY COURT SERVICES': 38, 'DIRECTOR, HUMAN RESOURCES': 25, 'SENIOR BUILDING INSPECTOR': 25, 'TRANSIT MANAGER II': 18, 'PLANNER IV': 10, 'EMERGENCY MEDICAL SERVICES AGENCY SPECIALIST': 44, 'PUBLIC SAFETY COMMUNICATIONS DISPATCHER': 39, 'WATER OPERATIONS ANALYST': 24, 'CHIEF ELECTRICAL INSPECTOR': 26, 'TRAFFIC SIGNAL ELECTRICIAN': 26, 'AUTOMOTIVE BODY AND FENDER WORKER': 33, 'APPRENTICE STATIONARY ENGINEER': 30, 'AUTOMOTIVE BODY AND FENDER WORKER SUPERVISOR I': 46, 'AUTOMOTIVE MACHINIST': 20, 'SUPERVISING PURCHASER': 21, 'CHIEF STATIONARY ENGINEER, SEWAGE PLANT': 39, 'COURT COMPUTER FACILITIES COORDINATOR': 37, 'PLUMBER SUPERVISOR II': 21, 'MANAGER III - MUNICIPAL TRANSPORTATION AGENCY': 45, 'CLAIMS INVESTIGATOR': 19, 'STEAMFITTER': 11, 'PROTECTIVE SERVICES SUPERVISOR': 30, 'CARPENTER SUPERVISOR I': 22, 'MAYORAL STAFF XV': 16, 'COUNSELOR, LOG CABIN RANCH': 26, 'CHIEF HOUSING INSPECTOR': 23, \"MEDICAL EXAMINER'S INVESTIGATOR II\": 34, 'DIRECTOR, JUVENILE HALL': 23, 'IS PROGRAMMER ANALYST - PRINCIPAL': 33, 'TRAF SIGNAL ELECTRICIAN SUP II': 30, 'IS ADMINISTRATOR III': 20, \"ASSISTANT CHIEF DISTRICT ATTORNEY'S INVESTIGATOR\": 48, 'STEAMFITTER ASSISTANT SUPERVISOR': 32, 'SENIOR STATIONARY ENGINEER, SEWAGE PLANT': 40, 'COURT REPORTER': 14, 'AIRPORT ELECTRICIAN': 19, 'AIRPORT ELECTRICIAN SUPERVISOR': 30, 'COURT MANAGER': 13, 'HEALTH PROGRAM COORDINATOR III': 30, 'SUPERVISING WASTEWATER CONTROL INSPECTOR': 40, 'TRAF SIGNAL ELECTRICIAN SUP I': 29, 'LINE INSPECTOR': 14, 'PRINCIPAL ADMINISTRATIVE ANAYLST II': 35, 'WATER SERVICE INSPECTOR': 23, 'PUBLIC RELATIONS MANAGER': 24, 'SENIOR ENVIRONMENTAL HEALTH INSPECTOR': 37, 'CONTRACT COMPLIANCE OFFICER II': 30, 'SENIOR INDUSTRIAL HYGIENIST DEPT OF PUBLIC HEALTH': 49, 'SAFETY OFFICER': 14, 'AUTOMOTIVE MACHINIST SUPERVISOR I': 33, 'PLANNER IV-ENVIRONMENTAL REVIEW': 31, 'DIVISION DIRECTOR ADULT PROBATION': 33, 'PROTECTIVE SERVICES WORKER': 26, \"MEDICAL EXAMINER'S INVESTIGATOR III\": 35, 'AUTOMOTIVE SERVICE WORKER': 25, 'DIRECTOR, PROBATE': 17, 'IS ADMINISTRATOR - SUPERVISOR': 29, 'SENIOR HOUSING INSPECTOR': 24, 'SEWER SERVICE WORKER': 20, 'STREET REPAIR SUPERVISOR II': 27, 'ELECTRIC MOTOR REPAIRER': 23, 'COMMUNICATIONS DIRECTOR': 23, 'COURT COMPUTER APPLICATIONS PROGRAMMER': 38, 'DIAGNOSTIC IMAGING TECH IV': 26, 'PROJECT MANAGER I': 17, 'ASPHALT FINISHER SUPERVISOR I': 29, 'TRANSIT MANAGER I': 17, 'CRIMINALIST II': 14, 'CHIEF MICROBIOLOGIST': 20, 'CHIEF SURVEYOR': 14, 'SENIOR ADMINISTRATIVE ANALYST': 29, 'PSYCHIATRIC TECHNICIAN': 22, 'SUPERVISING BIOLOGIST': 21, 'AIRPORT OPERATIONS SUPERVISOR': 29, 'TRANSIT PLANNER IV': 18, 'MEDIA/SECURITY SYSTEMS SUPERVISOR': 33, \"SENIOR DISTRICT ATTORNEY'S INVESTIGATOR\": 39, 'PRINCIPAL PERSONNEL ANALYST': 27, 'SENIOR PHYSICAL THERAPIST': 25, 'SENIOR OCCUPATIONAL THERAPIST': 29, 'SHELTER VETERINARIAN': 20, 'CHIEF FIRE ALARM DISPATCHER': 27, 'DEPUTY DIRECTOR I': 17, 'EXECUTIVE ASSISTANT TO THE GENERAL MANAGER, RETIRE': 50, 'AIRPORT ECONOMIC PLANNER': 24, 'SWITCH REPAIRER': 15, 'POWER HOUSE ELECTRICIAN SUPERVISOR I': 36, 'SAFETY ANALYST': 14, 'BIOLOGIST III': 13, 'PARKING ENFORCEMENT ADMINISTRATOR': 33, 'PRINCIPAL ENVIRONMENTAL HEALTH INSPECTOR': 40, 'SENIOR EMPLOYEE RELATIONS REPRESENTATIVE': 40, 'PAINTER SUPERVISOR I': 20, 'SENIOR SYSTEMS ACCOUNTANT': 25, 'COUNSELOR, FAMILY COURT SERVICE': 31, 'GOVERNMENT AND PUBLIC AFFAIRS MANAGER': 37, 'ELECTRONIC INSTRUMENTATION TECHNICIAN,WTR PLTNCN': 48, 'CAR AND AUTO PAINTER': 20, 'PERFORMANCE ANALYST III - PROJECT MANAGER': 41, 'UTILITY PLUMBER APPRENTICE': 26, 'PRINCIPAL MANAGEMENT ANALYST': 28, 'LOCKSMITH': 9, 'SENIOR AIRPORT COMMUNICATIONS DISPATCHER': 40, 'SENIOR PROPERTY MANAGER, PORT': 29, 'HEAVY EQUIPMENT OPERATIONS SUPERVISOR': 37, 'MAINTENANCE PLANNER': 19, 'SENIOR STREET INSPECTOR': 23, 'SENIOR REAL PROPERTY OFFICER': 28, 'ASSISTANT DIRECTOR OF CLINICAL SERVICES I': 41, 'TRUCK DRIVER': 12, 'DIRECTOR, PROBATION SERVICES': 28, 'SENIOR CLAIMS INVESTIGATOR': 26, 'TRACK MAINTENANCE WORKER': 24, 'WATER AND POWER MAINTENANCE SUPERVISOR I': 40, 'ASSOCIATE AFFIRMATIVE ACTION COORDINATOR': 40, 'POLICE COMMUNICATIONS SHIFT SUPERVISOR': 38, 'STREET ENVIRONMENTAL SERVICES OPERATIONS SUPERVI': 48, 'ASSISTANT LAW LIBRARIAN': 23, 'CEMENT FINISHER SUPERVISOR I': 28, 'SENIOR PLAN CHECKER': 19, 'STATIONARY ENGINEER, WATER TREATMENT PLANT': 42, 'MAINTENANCE MANAGER': 19, 'CLERK': 5, 'CRANE MECHANIC SUPERVISOR': 25, 'AIRPORT COMMUNICATIONS OPERATOR': 31, 'MANAGER I - MUNICIPAL TRANSPORTATION AGENCY': 43, 'SUPERVISING CLINICAL PSYCHOLOGIST': 33, 'CHEMIST III': 11, 'ARCHITECTURAL ADMINISTRATOR': 27, 'PRINCIPAL REAL PROPERTY APPRAISER': 33, 'GENERAL LABORER SUPERVISOR I': 28, 'SUPERVISING PARTS STOREKEEPER': 29, 'CITY SHOPS ASSISTANT SUPERINTENDENT': 35, 'INDUSTRIAL HYGIENIST': 20, 'HOUSING INSPECTOR': 17, 'MATERIALS COORDINATOR': 21, 'PRINCIPAL PERSONAL PROPERTY AUDITOR': 35, 'STATIONARY ENGINEER, SEWAGE PLANT': 33, 'LICENSED VOCATIONAL NURSE': 25, 'MARITIME MARKETING REPRESENTATIVE': 33, 'COURT COMPUTER SYSTEMS ENGINEER II': 34, 'COURT COMPUTER APPLICATIONS ANALYST': 35, 'SENIOR HUMAN RESOURCES ANALYST': 30, 'PRINCIPAL ENVIRONMENTAL SPECIALIST': 34, 'SUPERVISING ADULT PROBATION OFFICER': 35, 'SUPERVISING PROBATION OFFICER, JUVENILE COURT': 45, 'SUPERVISING AUDITOR': 19, 'CLAIMS ADJUSTER': 15, 'ELEVATOR AND CRANE TECHNICIAN': 29, 'COURT SUPERVISOR II': 19, 'MEMBER, BOARD OF SUPERVISORS': 28, 'PARTS STOREKEEPER': 17, 'WATER CONSERVATION ADMINISTRATOR': 32, 'TRANSIT CAR CLEANER ASSISTANT SUPERVISOR': 40, 'SHEET METAL SUPERVISOR I': 24, 'MAYORAL STAFF XIII': 18, \"SENIOR CLAIMS INVESTIGATOR,CITY ATTORNEY'S OFFICE\": 49, 'SENIOR MAINTENANCE CONTROLLER': 29, 'GLAZIER': 7, 'FISCAL SERVICES COORDINATOR': 27, 'SECRETARY TO THE PRESIDING JUDGE': 32, 'HEALTH WORKER IV': 16, 'POWER PLANT SUPERVISOR I': 24, 'OCCUPATIONAL THERAPIST': 22, 'SURVEY ASSOCIATE': 16, 'AUTOMOTIVE SERVICE WORKER ASSISTANT SUPERVISOR': 46, 'SENIOR COMMUNITY DEVELOPMENT SPECIALIST I': 41, 'CHIEF VICTIM/WITNESS INVESTIGATOR': 33, 'MEDIA/SECURITY SYSTEMS SPECIALIST': 33, 'MAYORAL STAFF XIV': 17, 'GENERAL LABORER': 15, 'DEPUTY PROBATION OFFICER': 24, 'CARPENTER': 9, 'PARK PATROL OFFICER': 19, 'EXECUTIVE DIRECTOR, SOUTHEAST COMMUNITY FACILITY': 48, 'PHYSICAL THERAPIST': 18, 'SENIOR POWER HOUSE OPERATOR': 27, 'PARKING CONTROL OFFICER': 23, 'SENIOR PERSONNEL ANALYST': 24, 'INSTITUTIONAL POLICE OFFICER': 28, 'PHARMACY TECHNICIAN': 19, 'AUDIOLOGIST': 11, 'ELIGIBILITY WORKER': 18, 'ASSISTANT SUPERINTENDENT RECREATION': 35, 'SHEET METAL WORKER': 18, 'ASPHALT PLANT SUPERVISOR I': 26, 'SENIOR ACCOUNT CLERK': 20, 'COURT INVESTIGATOR': 18, 'STAGE ELECTRICIAN': 17, 'SECURITY ANALYST': 16, 'PRINCIPAL PAYROLL AND PERSONNEL CLERK': 37, 'SENIOR COMMUNITY DEVELOPMENT SPECIALIST II': 42, 'TRAFFIC SIGN MANAGER': 20, 'ELECTRIC MOTOR REPAIR SUPERVISOR I': 34, 'TRANSIT PLANNER III': 19, 'REGULATORY SPECIALIST': 21, 'PROBATE EXAMINER': 16, 'HOSPITAL ELIGIBILITY WORKER SUPERVISOR': 38, 'COURT ASSISTANT - SENIOR, SUPERIOR COURT': 40, 'MUNICIPAL STADIUM GROUNDSKEEPER': 31, 'BRICKLAYER': 10, 'PLANNER III-ENVIRONMENTAL REVIEW': 32, 'ASSISTANT FORENSIC TOXICOLOGIST I': 33, 'FARE INSPECTIONS SUPERVISOR/INVESTIGATOR': 40, 'EMPLOYMENT AND TRAINING SPECIALIST VI': 37, 'PIPE WELDER': 11, 'PARK SECTION SUPERVISOR': 23, 'ENVIRONMENTAL HEALTH INSPECTOR': 30, 'PRINCIPAL FARE COLLECTIONS RECEIVER': 35, 'AIRPORT SAFETY OFFICER': 22, 'MARRIAGE, FAMILY & CHILD COUNSELOR (MFCC)': 41, 'COORDINATOR OF CITIZEN INVOLVEMENT': 34, 'TREE TOPPER SUPERVISOR I': 24, 'COURT INTERPRETER SUPERVISOR': 28, 'SURGICAL PROCEDURES TECHNICIAN': 30, 'PLANNER III': 11, 'MENTAL HEALTH REHABILITATION WORKER': 35, 'PATIENT ACCOUNTS SUPERVISOR': 27, 'STREET INSPECTION SUPERVISOR': 28, 'COMMUNICATIONS DISPATCHER II': 28, 'POWER HOUSE OPERATOR': 20, 'SENIOR MICROBIOLOGIST': 21, 'IS ENGINEER - ASSISTANT': 23, 'ELECTRICAL LINE HELPER': 22, 'ASSISTANT MATERIALS COORDINATOR': 31, \"WORKER'S COMPENSATION SUPERVISOR I\": 34, 'ASSISTANT TO THE DIRECTOR, PUBLIC AFFAIRS       RS': 50, 'CLAIMS INVESTIGATOR CITY ATTORNEYS OFFICE': 41, 'IS TRAINER - SENIOR': 19, 'SPEECH PATHOLOGIST': 18, 'NURSING ASSISTANT': 17, 'COURT TRAINING SPECIALIST': 25, 'ENGINEERING ASSOCIATE II': 24, 'CLINICAL PSYCHOLOGIST': 21, 'IS BUSINESS ANALYST': 19, 'GARDENER': 8, 'AIRPORT PROPERTY SPECIALIST I': 29, 'BOARD/COMMISSION SECRETARY III': 30, 'BENEFITS SUPERVISOR': 19, 'LEGISLATIVE ASSISTANT': 21, 'CEMENT MASON': 12, 'LIBRARIAN III': 13, 'REAL PROPERTY OFFICER': 21, 'ASSISTANT RENTAL MANAGER, PORT': 30, 'ORNAMENTAL IRON WORKER SUPERVISOR I': 35, 'FUSION WELDER': 13, 'SUPERVISING WELFARE FRAUD INVESTIGATOR': 38, 'TRAINING COORDINATOR': 20, 'PAINTER': 7, 'SENIOR PARKING CONTROL OFFICER': 30, 'SENIOR PURCHASER': 16, 'PROGRAM SUPPORT ANALYST': 23, 'FOOD SERVICE MANAGER ADMINISTRATOR': 34, 'CONTRACT COMPLIANCE OFFICER I': 29, 'MEDICAL SOCIAL WORK SUPERVISOR': 30, 'WATERSHED FORESTER MANAGER': 26, 'HEAVY EQUIPMENT OPERATIONS ASSISTANT SUPERVISOR': 47, 'ADMINISTRATIVE ANALYST III': 26, 'MOBILE EQUIPMENT SUPERVISOR': 27, 'GENERAL UTILITY MECHANIC': 24, 'ASSOCIATE AUDITOR': 17, 'COURT SUPERVISOR I': 18, 'APPRENTICE STATIONARY ENGINEER, SEWAGE PLANT': 44, 'TRACK MAINTENANCE SUPERINTENDENT,MUNICIPAL RAILWAY': 50, 'PATTERN MAKER': 13, 'EXECUTIVE ASSISTANT TO THE ADMINISTRATOR, S.F.G.H.': 50, 'IS PROGRAMMER ANALYST - SENIOR': 30, 'ASSISTANT CLERK, BOARD OF SUPERVISORS': 37, 'SENIOR REAL PROPERTY APPRAISER': 30, 'EPIDEMIOLOGIST II': 17, 'ADMINISTRATIVE SERVICES MANAGER': 31, 'PILEDRIVER SUPERVISOR I': 23, 'PERSONNEL PAYROLL REPRESENTATIVE': 32, 'STREET INSPECTOR': 16, 'WASTEWATER CONTROL INSPECTOR': 28, 'SENIOR PERSONAL PROPERTY AUDITOR': 32, 'BIOLOGIST I/II': 14, 'SENIOR PSYCHIATRIC SOCIAL WORKER': 32, 'SENIOR HEALTH PROGRAM PLANNER': 29, 'SENIOR ENVIRONMENT SPECIALIST': 29, \"SENIOR INVESTIGATOR, OFFICE OF CITIZEN'S COMPLAINT\": 50, 'HEALTH CARE ANALYST': 19, 'SENIOR PAYROLL AND PERSONNEL CLERK': 34, 'SECRETARY I': 11, 'SOFT FLOOR COVERER SUPERVISOR': 29, 'APPRENTICE STATIONARY ENGINEER,WATER TREATMENT PLN': 50, 'SECRETARY, COMMISSION ON THE ENVIRONMENT': 40, 'PSYCHIATRIC SOCIAL WORKER': 25, 'MAINTENANCE MACHINIST ASSISTANT SUPERVISOR': 42, 'SENIOR SOCIAL WORKER': 20, 'COORDINATOR, HUMAN RIGHTS COMMISSION': 36, 'SENIOR HEALTH EDUCATOR': 22, 'CURATOR IV': 10, 'COUNSELOR II': 12, 'MUSEUM SECURITY SUPERVISOR': 26, 'SUPERVISOR, TRAFFIC AND STREET SIGNS': 36, 'SENIOR CLERK': 12, 'PRINCIPAL ACCOUNTANT': 20, 'FEASIBILITY ANALYST, PORT': 25, 'AIRPORT POLICE SERVICES AIDE': 28, \"MAYOR'S PROGRAM MANAGER\": 23, 'PILEDRIVER ENGINE OPERATOR': 26, \"SENIOR PUBLIC DEFENDER'S INVESTIGATOR\": 37, 'PILE WORKER': 11, 'MENTAL HEALTH HEARING OFFICER': 29, 'ASSISTANT CHIEF VICTIM/WITNESS INVESTIGATOR': 43, 'CHEMIST I/II': 12, 'PARKING METER REPAIRER SUPERVISOR I': 35, 'CONSERVATORSHIP/CASE MGNT SUPV': 30, 'DEPUTY COURT CLERK III': 22, 'AIRPORT COMMUNICATIONS SUPERVISOR': 33, 'PRINCIPAL CLERK': 15, 'PAINTER SUPERVISOR II': 21, 'AREA SUPERVISOR, PARKS, SQUARES AND FACILITIES': 46, 'FORESTER': 8, 'PUBLIC RELATIONS OFFICER': 24, 'EXECUTIVE SECRETARY III': 23, 'CIVIL ENGINEERING ASSOCIATE I': 29, 'AIRPORT EMERGENCY PLANNING COORDINATOR': 38, 'MOBILE EQUIPMENT ASSISTANT SUPERVISOR': 37, 'IS OPERATOR - SUPERVISOR': 24, 'PERSONNEL ANALYST': 17, 'CARPENTER SUPERVISOR II': 23, 'EMPLOYMENT AND TRAINING SPECIALIST V': 36, 'PARKING HEARING EXAMINER': 24, 'GLAZIER SUPERVISOR I': 20, 'SECRETARY, LIBRARY COMMISSION': 29, 'EXECUTIVE SECRETARY TO THE CONTROLLER': 37, 'ASSISTANT CONSTRUCTION INSPECTOR': 32, 'SUPERVISING COURT ADMINISTRATIVE SECRETARY': 42, 'SENIOR PARTS STOREKEEPER': 24, 'ELIGIBILITY WORKER SUPERVISOR': 29, 'MUSEUM GUARD': 12, 'WELFARE FRAUD INVESTIGATOR': 26, 'PRINCIPAL PARTS STOREKEEPER': 27, 'SENIOR MANAGEMENT ASSISTANT': 27, 'ASSOCIATE PERFORMANCE AUDITOR': 29, 'MAINTENANCE ESTIMATOR AND SCHEDULER': 35, 'PATIENT ACCOUNTS MANAGER': 24, 'MARKET RESEARCH SPECIALISTS, PORT': 33, 'SPECIAL ASSISTANT XV': 20, 'SENIOR MARRIAGE, FAMILY & CHILD COUNSELOR (MFCC)': 48, 'TRAINING OFFICER': 16, 'NUTRITIONIST': 12, 'LIBRARIAN II': 12, 'SENIOR GENERAL UTILITY MECHANIC': 31, 'WATER QUALITY TECHNICIAN I/II': 29, 'X-RAY LABORATORY AIDE': 21, 'EMERGENCY PROTECTIVE ORDERS COMMISSIONER': 40, 'SENIOR MEDICAL SOCIAL WORKER': 28, 'HEALTH EDUCATOR': 15, 'IS ADMINISTRATOR I': 18, 'CHIEF NURSERY SPECIALIST': 24, 'POWERHOUSE ELECTRICIAN SUPERVISOR II': 36, 'PROGRAM SPECIALIST SUPERVISOR': 29, 'PORTER': 6, 'IS ADMINISTRATOR II': 19, 'SENIOR CENTRAL PROCESSING AND DISTRIBUTION TECHNIC': 50, 'PAYROLL SUPERVISOR': 18, 'TRIAL DELAY REDUCTION COORDINATOR': 33, 'BUILDING SERVICES TECHNICIAN': 28, 'SENIOR FISCAL TECHNICIAN': 24, 'IS TECHNICIAN - SUPERVISOR': 26, 'EMPLOYMENT & TRAINING SPECIALIST IV': 35, 'PUBLIC HEALTH TEAM LEADER': 25, 'PRINCIPAL INVESTIGATOR, TAX COLLECTOR': 37, 'MICROBIOLOGIST': 14, 'CENTRAL PROCESSING AND DISTRIBUTION TECHNICIAN': 46, 'SIGN WORKER': 11, 'MEDIA TRAINING SPECIALIST': 25, 'MEDICAL RECORDS TECHNICIAN SUPERVISOR': 37, 'CUSTODIAL ASSISTANT SUPERVISOR': 30, 'SENIOR EMPLOYEE ASSISTANCE COUNSELOR': 36, 'MEDIA PRODUCTION SUPERVISOR': 27, 'COMMERCIAL DIVISION ASSISTANT SUPERVISOR': 40, 'CHILD SUPPORT OFFICER III': 25, 'CRIMINAL JUSTICE SPECIALIST II': 30, 'DENTAL HYGIENIST': 16, 'ROOFER SUPERVISOR I': 19, 'JUNIOR ENGINEER': 15, 'COURT AD RESOLUTION COORDINATOR': 31, 'PATIENT ACCOUNTS ASSISTANT SUPERVISOR': 37, 'TRAINING TECHNICIAN': 19, 'TREE TOPPER SUPERVISOR II': 25, 'VICTIM/WITNESS INVESTIGATOR III': 31, 'PHYSICAL THERAPIST ASSISTANT': 28, 'ORNAMENTAL IRON WORKER': 22, 'HEALTH PROGRAM COORDINATOR II': 29, 'INVESTIGATOR, OFFICE OF CITIZEN COMPLAINTS': 42, 'ARCHITECTURAL ASSISTANT II': 26, 'HEALTH PROGRAM PLANNER': 22, 'CONFIDENTIAL SECRETARY TO DISTRICT ATTORNEY': 43, 'ASSOCIATE HUMAN RESOURCES ANALYST': 33, 'ASSISTANT DIRECTOR, LOG CABIN RANCH': 35, 'MEDICAL RECORDS TECHNICIAN': 26, 'MEDICAL SOCIAL WORKER': 21, 'SENIOR ESTATE INVESTIGATOR': 26, 'SECURITY GUARD': 14, \"PUBLIC DEFENDER'S INVESTIGATOR\": 30, 'INVESTIGATOR, TAXI & ACCESS SVCS': 32, 'SENIOR FARE COLLECTIONS RECEIVER': 32, 'CHIEF DIETITIAN': 15, 'SURVEY ASSISTANT II': 19, 'PUBLIC SERVICE TRAINEE': 22, 'LIBRARIAN II - ASIAN ARTS': 25, 'DEPUTY COURT CLERK II': 21, 'ASSISTANT STOREKEEPER': 21, 'REAL PROPERTY APPRAISER': 23, 'REPRESENTATIVE, HUMAN RIGHTS COMMISSION': 39, 'COUNSELOR, JUVENILE HALL': 24, 'TRANSIT PLANNER II': 18, 'RETIREMENT ANALYST': 18, 'PLANNER II': 10, 'ASSISTANT INDUSTRIAL HYGIENIST': 30, 'EMPLOYEE ASSISTANCE COUNSELOR': 29, 'ADMINISTRATIVE ANALYST': 22, 'SPECIALIST IN AGING II': 22, 'REHABILITATION SERVICES COORDINATOR': 35, 'AFFIRMATIVE ACTION SPECIALIST': 29, 'POWER GENERATION TECHNICIAN I': 29, 'TREE TOPPER': 11, 'WATER QUALITY TECHNICIAN III': 28, 'EMPLOYEE RELATIONS REPRESENTATIVE': 33, 'STATION OFFICER': 15, 'REPRESENTATIVE, COMMISSION ON THE STATUS OF WOMEN': 49, 'METAL FABRICATOR': 16, 'EXECUTIVE SECRETARY II': 22, 'WATERSHED KEEPER SUPERVISOR': 27, 'MAYORAL STAFF XII': 17, 'MEDICAL STAFF SERVICES DEPARTMENT ANALYST': 41, 'UNIT CLERK': 10, 'ASSISTANT HEALTH EDUCATOR': 25, 'UTILITY ANALYST': 15, 'ENVIRONMENT SPECIALIST': 22, 'LEGAL ASSISTANT': 15, 'INVESTIGATOR, TAX COLLECTOR': 27, 'SENIOR ELIGIBILITY WORKER': 25, 'SOCIAL WORK SUPERVISOR': 22, 'CONFIDENTIAL SECRETARY CITY ATTORNEY': 36, 'IS TRAINER - JOURNEY': 20, 'MEDICAL EVALUATIONS ASSISTANT': 29, 'HEALTH CARE BILLING CLERK II': 28, 'PERSONAL PROPERTY AUDITOR': 25, 'NURSES STAFFING ASSISTANT': 25, 'PURCHASER': 9, 'PROGRAM SPECIALIST': 18, 'COURT ASSISTANT, SUPERIOR COURT': 31, 'EMERGENCY PLANNING COORDINATOR': 30, 'PEST CONTROL SPECIALIST': 23, 'ROOFER': 6, 'DIRECTOR OF ACTIVITIES, THERAPY AND VOLUNTEER SERV': 50, 'COOK': 4, 'SECRETARY, HEALTH COMMISSION': 28, 'LIBRARIAN I': 11, 'SURVEY ASSISTNAT I': 18, 'COURT CLERK': 11, 'SEWER MAINTENANCE WORKER': 24, 'CHIEF PAYROLL AND PERSONNEL CLERK': 33, 'PORTER SUPERVISOR I': 19, 'EMPLOYMENT AND TRAINING SPECIALIST III': 38, 'CIVIL ENGINEERING ASSISTANT': 27, \"WORKER'S COMPENSATION ADJUSTER\": 30, 'FARE COLLECTIONS RECEIVER': 25, 'PRINCIPAL PERMIT AND CITATION CLERK': 35, 'CUSTOMER SERVICE AGENT SUPERVISOR': 33, 'RECREATION SUPERVISOR': 21, 'IS OPERATOR - SENIOR': 20, 'ESTATE INVESTIGATOR': 19, 'IS BUSINESS ANALYST - ASSISTANT': 31, 'ADMINISTRATIVE ANALYST II': 25, 'TRAFFIC SURVEY TECHNICIAN': 25, 'JANITORIAL SERVICES ASSISTANT SUPERVISOR': 40, 'HODCARRIER': 10, 'IS TECHNICIAN - SENIOR': 22, 'LEGAL SECRETARY II': 18, 'ASSISTANT GENERAL SERVICES MANAGER': 34, 'WHARFINGER II': 13, 'DIETITIAN': 9, 'CURATOR III': 11, 'SENIOR TRANSIT TRAFFIC CHECKER': 30, 'WATERSHED KEEPER': 16, 'EMPLOYMENT & TRAINING SPECIALIST II': 35, 'IS PROGRAMMER ANALYST': 21, 'ELECTRICAL ENGINEERING ASSOCIATE I': 34, 'SOCIAL WORK SPECIALIST': 22, 'WATER METER REPAIRER': 20, 'ILLUSTRATOR AND ART DESIGNER': 28, 'COURT INTERPRETER': 17, 'VOLUNTEER/OUTREACH COORDINATOR': 30, 'PERSONNEL TECHNICIAN': 20, 'COMMUNICATIONS DISPATCHER I': 27, 'REHABILITATION COUNSELOR': 24, 'PAYROLL CLERK': 13, 'CHIEF CLERK': 11, 'RENT BOARD SUPERVISOR': 21, 'ANIMAL CARE SUPERVISOR': 22, 'TILE SETTER': 11, 'ARCHITECTURAL ASSISTANT  I': 26, 'CHEF': 4, 'LEGISLATION CLERK': 17, 'MAYORAL STAFF IX': 16, 'SECRETARY II': 12, 'TRANSIT FARE INSPECTOR': 22, 'ASSOCIATE MUSEUM CONSERVATOR, ASIAN ART MUSEUM': 46, 'SENIOR CUSTOMER SERVICE AGENT': 29, 'MANAGEMENT ASSISTANT': 20, 'PUBLIC INFORMATION OFFICER': 26, 'SENIOR ACCOUNTANT': 17, 'ASSISTANT PURCHASER': 19, 'ASSISTANT RETIREMENT ANALYST': 28, 'EPIDEMIOLOGIST I': 16, 'STATISTICIAN': 12, 'PERFORMING ARTS CENTER AIDE': 27, 'NURSERY SPECIALIST': 18, 'ASPHALT FINISHER': 16, 'LEGAL RESEARCH ASSISTANT': 24, 'SENIOR MUSEUM REGISTRAR': 23, 'PRINCIPAL ACCOUNT CLERK': 23, 'FOOD SERVICE SUPERVISOR': 23, 'MAIL AND REPRODUCTION SERVICE SUPERVISOR': 40, 'CHIEF DEPUTY ADULT PROBATION OFFICER': 36, 'FISCAL TECHNICIAN': 17, 'FORENSIC LABORATORY TECHNICIAN': 30, 'FINGERPRINT TECHNICIAN III': 26, 'COMMUNITY DEVELOPMENT SPECIALIST': 32, 'MATERIALS TESTING TECHNICIAN': 28, 'CUSTODIAL SUPERVISOR': 20, 'PARKING METER REPAIRER': 22, 'HOSPITAL ELIGIBILITY WORKER': 27, 'HEALTH PROGRAM COORDINATOR I': 28, 'LIBRARY TECHNICAL ASSISTANT II': 30, 'EXECUTIVE SECRETARY I': 21, 'MEDICAL RECORDS CLERK': 21, 'STOREKEEPER': 11, 'SENIOR FOOD SERVICE SUPERVISOR': 30, \"DISTRICT ATTORNEY'S INVESTIGATIVE ASSISTANT\": 43, 'POLICE SERVICES AIDE': 20, 'WINDOW CLEANER': 14, 'CITIZENS COMPLAINT OFFICER': 26, 'FIELD SERVICES ASSISTANT SUPERVISOR': 35, 'SOFT FLOOR COVERER': 18, 'MATERIALS TESTING AIDE': 22, 'SENIOR PSYCHIATRIC ORDERLY': 26, 'CURATOR II': 10, 'VICTIM/WITNESS INVESTIGATOR II': 30, 'LEGAL SECRETARY I': 17, 'TRANSIT TRAFFIC CHECKER': 23, 'JANITORIAL SERVICES SUPERVISOR': 30, 'CHILD SUPPORT OFFICER II': 24, 'PRINCIPAL WATER SERVICES CLERK': 30, 'METALSMITH': 10, 'PLANNER I': 9, 'IS OPERATOR - ANALYST': 21, 'HEAD PHOTOGRAPHER': 17, 'SENIOR LEGAL PROCESS CLERK': 26, 'WINDOW CLEANER SUPERVISOR': 25, 'SENIOR COLLECTIONS OFFICER': 26, 'INVENTORY CLERK': 15, 'ACUPUNCTURIST': 13, 'PHYSICAL THERAPY AIDE': 21, 'IS PROGRAMMER ANALYST - ASSISTANT': 33, 'FORENSIC AUTOPSY TECHNICIAN': 27, 'DOCUMENT EXAMINER TECHNICIAN': 28, 'SENIOR PERMIT AND CITATION CLERK': 32, 'MEDIA PROGRAMMING SPECIALIST': 28, 'FOOD SERVICE WORKER': 19, 'MAYORAL STAFF X': 15, 'ZOO CURATOR': 11, 'SENIOR SWIMMING INSTRUCTOR': 26, 'SENIOR TRANSIT INFORMATION CLERK': 32, 'FINGERPRINT TECHNICIAN II': 25, 'PHARMACY HELPER': 15, 'LIBRARY TECHNICAL ASSISTANT I': 29, 'BENEFITS ANALYST': 16, 'DISEASE CONTROL INVESTIGATOR': 28, 'STORES AND EQUIPMENT ASSISTANT SUPERVISOR': 41, 'SENIOR LAUNDRY WORKER': 21, 'ASSISTANT COUNSELOR': 19, 'IS TECHNICIAN - JOURNEY': 23, 'CUSTODIAN': 9, 'CITY PLANNING GRAPHICS SUPERVISOR': 33, 'COURT ADMINISTRATIVE SECRETARY': 30, 'ACCOUNTANT': 10, 'SENIOR BOOK REPAIRER': 20, 'WHARFINGER I': 12, 'HEALTH WORKER II': 16, 'BAKER': 5, 'SENIOR WATER SERVICES CLERK': 27, 'SENIOR STOREKEEPER': 18, 'URBAN FORESTRY INSPECTOR': 24, \"MEDICAL EXAMINER'S INVESTIGATOR I\": 33, 'ENVIRONMENTAL ASSISTANT': 23, 'ASPHALT WORKER': 14, 'SENIOR CLERK TYPIST': 19, 'PATIENT ACCOUNTS CLERK': 22, 'SECRETARY, BUILDING INSPECTION COMMISSION': 41, 'SENIOR MORGUE ATTENDANT': 23, 'IS TRAINER - ASSISTANT': 22, 'TRANSIT INFORMATION CLERK': 25, 'ANIMAL CONTROL OFFICER': 22, 'PERMIT AND CITATION CLERK': 25, 'ELECTROENCEPHALOGRAPH TECHNICIAN I': 34, 'ANIMAL KEEPER': 13, 'ENVIRONMENTAL HEALTH TECHNICIAN I': 33, 'SHELTER OFFICE SUPERVISOR': 25, 'DENTAL AIDE': 11, 'MAYORAL STAFF VII': 17, 'HEALTH WORKER III': 17, 'VICTIM/WITNESS INVESTIGATOR I': 29, 'CASHIER II': 10, 'AIRPORT NOISE ABATEMENT SPECIALIST': 34, 'JUNIOR MANAGEMENT ASSISTANT': 27, 'RESEARCH ASSISTANT': 18, 'COURT ALTERNATIVE SPECIALIST I': 30, 'SENIOR PERSONNEL CLERK': 22, 'INDUSTRIAL INJURY INVESTIGATOR': 30, 'COURT PARALEGAL': 15, 'SPECIAL ASSISTANT XVIII': 23, 'CLERK TYPIST': 12, 'LEGISLATIVE CALENDAR CLERK': 26, 'BUILDING AND GROUNDS PATROL OFFICER': 35, 'SOCIAL WORKER': 13, 'ACCOUNT CLERK': 13, 'ARTS PROGRAM ASSISTANT': 22, 'HUMAN SERVICES TECHNICIAN': 25, 'ORTHOPEDIC TECHNICIAN II': 24, 'ENVIRONMENT HEALTH TECHNICIAN II': 32, 'IS OPERATOR - JOURNEY': 21, 'SENIOR OPERATIONS MANAGER': 25, 'SENIOR MEDICAL TRANSCRIBER TYPIST': 33, 'VENDOR': 6, 'HEALTH WORKER I': 15, 'MEDICAL TRANSCRIBER TYPIST': 26, 'SENIOR UNIT CLERK': 17, 'EMPLOYMENT AND TRAINING SPECIALIST I': 36, 'MEDICAL STAFF SERVICES DEPARTMENT SPECIALIST': 44, 'JUNIOR ADMINISTRATIVE ANALYST': 29, 'COLLECTIONS OFFICER': 19, 'METER READER': 12, 'ELECTIONS WORKER': 16, 'SENIOR PHARMACY HELPER': 22, 'ASSISTANT COOK': 14, 'SENIOR TELEPHONE OPERATOR': 25, 'INSTITUTIONAL POLICE LIEUTENANT': 31, 'DEPUTY SEALER OF WEIGHTS AND MEASURES': 37, 'CASHIER III': 11, 'OFFSET MACHINE OPERATOR': 23, 'ACCOUNTANT INTERN': 17, 'SHELTER SERVICE REPRESENTATIVE': 30, 'MEDIA PRODUCTION TECHNICIAN': 27, 'RECREATION COORDINATOR': 22, 'AGRICULTURAL INSPECTOR': 22, 'PATIENT SERVICES FINANCE TECHNICIAN': 35, 'RESPIRATORY CARE PRACTITIONER': 29, 'INSPECTOR OF WEIGHTS AND MEASURES': 33, 'ANIMAL CARE ATTENDANT': 21, 'BEAUTICIAN': 10, \"LEGISLATIVE ASSISTANT, CITY ATTORNEY'S OFFICE\": 45, 'CURATOR I': 9, 'MUSEUM REGISTRAR': 16, 'LIGHTING FIXTURE MAINTENANCE WORKER': 35, 'BACTERIOLOGICAL LABORATORY ASSISTANT': 36, 'ASSISTANT POWER HOUSE OPERATOR': 30, 'COMMUNITY DEVELOPMENT ASSISTANT': 31, 'ASSISTANT RECREATION DIRECTOR': 29, 'SHELTER OFFICE ASSISTANT SUPERVISOR': 35, 'LIBRARY ASSISTANT': 17, 'ANIMAL CARE ASSISTANT SUPERVISOR': 32, 'SUPERVISING BUILDING AND GROUNDS PATROL OFFICER': 47, 'GRAPHIC ARTIST': 14, 'FINGERPRINT TECHNICIAN I': 24, 'PHOTOGRAPHER': 12, \"SHERIFF'S CADET\": 15, 'RECREATION SPECIALIST': 21, 'HEALTH CARE BILLING CLERK I': 27, 'BENEFITS TECHNICIAN': 19, 'MARINA ASSISTANT MANAGER': 24, 'SENIOR MICROPHOTO/IMAGING TECHNICIAN': 36, 'SENIOR FOOD SERVICE WORKER': 26, 'SENIOR ASSESSMENT CLERK': 23, 'SENIOR MUSEUM PREPARATOR': 24, 'SENIOR MATERIALS AND SUPPLIES SUPERVISOR': 40, 'ELECTIONS CLERK': 15, 'PLANNER TECHNICIAN': 18, 'PORTER ASSISTANT SUPERVISOR': 27, 'SENIOR OFFSET MACHINE OPERATOR': 30, 'CRAFTS INSTRUCTOR': 17, 'YOUTH COMMISSION ADVISOR, BOARD OF SUPERVISORS': 46, 'TRANSCRIBER TYPIST': 18, 'PERSONNEL CLERK': 15, 'STABLE ATTENDANT': 16, 'CASHIER I': 9, 'LEGAL PROCESS CLERK': 19, 'DIETETIC TECHNICIAN': 19, 'BRAILLIST': 9, 'SHADE AND DRAPERY WORKER': 24, 'TELEPHONE OPERATOR': 18, 'SIGNAL AND SYSTEMS ENGINEER': 27, 'VICTIM & WITNESS TECHNICIAN': 27, 'BOOK REPAIRER': 13, 'SPECIAL ASSISTANT III': 21, 'REAL PROPERTY APPRAISER TRAINEE': 31, 'LABORATORY HELPER': 17, 'FARMER': 6, 'ASSESSMENT CLERK': 16, 'MUSEUM PREPARATOR': 17, 'SWIMMING INSTRUCTOR/POOL LIFEGUARD': 34, 'ASSOCIATE MUSEUM REGISTRAR': 26, 'INSTITUTION UTILITY WORKER': 26, 'SECRETARY,JUVENILE PROBATION COMMISSION': 39, 'HOUSEKEEPER/FOOD SERVICE CLEANER': 32, 'CLAIMS PROCESS CLERK': 20, 'PUBLIC SERVICE AIDE-ASSOCIATE TO PROFESSIONALS': 46, 'CHIEF TELEPHONE OPERATOR': 24, 'CUSTOMER SERVICE AGENT TRAINEE': 30, 'HOME HEALTH AIDE': 16, 'MAYORAL STAFF IV': 16, 'MATERIALS AND SUPPLIES SUPERVISOR': 33, 'SUPPLY ROOM ATTENDENT': 21, 'SENIOR SUPERVISING PROBATION OFFICER, JUVENILE POU': 50, 'STUDENT DESIGN TRAINEE 2/ARC-ENG-PLNG': 37, 'PUBLIC RELATIONS ASSISTANT': 26, 'DEPUTY COURT CLERK I': 20, 'STUDENT DESIGN TRAINEE 1/ARC-ENG-PLNG': 37, 'LIBRARY PAGE': 12, 'JUNIOR CLERK TYPIST': 19, 'JUNIOR CLERK': 12, 'CHILD CARE SPECIALIST': 21, 'PUBLIC SERVICE AIDE-SPECIAL PROGRAMS': 36, 'MORGUE ATTENDANT': 16, 'MICROPHOTO/IMAGING TECHNICIAN': 29, 'ENVIRONMENTAL SERVICE WORKER': 28, 'PRINCIPAL RECREATION SUPERVISOR': 31, 'ANIMAL HEALTH TECHNICIAN': 24, 'VETERNIARY LABORATORY TECHNOLOGIST': 34, 'STUDENT DESIGN TRAINEE 3/ARC-ENG-PLNG': 37, 'PUBLIC SERVICE AIDE-HEALTH SERVICES': 35, 'CRIMINALIST I': 13, 'SENIOR TRANSCRIBER TYPIST': 25, 'MAYORAL STAFF II': 16, 'IS TECHNICIAN - ASSISTANT': 25, 'PRINCIPAL MUSEUM PREPARATOR': 27, 'APPRENTICE GARDENER': 19, 'PUBLIC SERVICE AIDE-ADMINISTRATIVE': 34, 'SECRETARY, HUMAN SERVICES COMMISSION': 36, 'PUBLIC SERVICE AIDE-ASSISTANT TO PROFESSIONALS': 46, 'FIRE ALARM DISPATCHER': 21, 'CHIEF PREPARATOR': 16, 'RECREATION LEADER': 17, 'SUPERIOR COURT JUDGE': 20, 'TRAFFIC SIGNAL OPERATOR': 23, 'ASSISTANT DIRECTOR, JUVENILE HALL': 33, \"SHERIFF'S PROPERTY KEEPER\": 25, 'TESTING TECHNICIAN': 18, 'WATERSHED WORKER (SEASONAL)': 27, 'PIANIST': 7, 'SENIOR DATA ENTRY OPERATOR': 26, 'AIRPORT ASSISTANT DEPUTY DIRECTOR, OPERATIONS': 45, 'AUDIOMETRIST': 12, 'MAYORAL STAFF V': 15, 'RECREATION DIRECTOR': 19, 'BARBER': 6, 'SCHOOL CROSSING GUARD': 21, 'MAYORAL STAFF XI': 16, 'COMMISSIONER': 12, 'BOARD COMMISSION MEMBER, $200 PER MEETING': 41, 'CITY PLANNING INTERN': 20, 'SPECIAL EXAMINER': 16, 'CAMP ASSISTANT': 14, 'ORTHOPEDIC TECHNICIAN I': 23, 'WAREHOUSE WORKER': 16, 'ASSISTANT RECREATION SUPERVISOR': 31, 'BOARD/COMMISSION MEMBER, GROUP V': 32, 'AIRPORT ASSISTANT DEPUTY DIRECTOR, BUSINESS ADMINI': 50, 'BOARD/COMMISSION MEMBER, GROUP III': 34, 'BOARD/COMMISSION MEMBER, GROUP II': 33, 'SPECIAL ASSISTANT XIV': 21, 'PUBLIC SAFETY COMMUNICATIONS TECHNICIAN': 39, 'Lieutenant, Fire Suppression': 28, 'Chief of Police': 15, 'Electronic Maintenance Tech': 27, 'Chief, Fire Department': 22, 'EMT/Paramedic/Firefighter': 25, 'Dept Head V': 11, 'Gen Mgr, Public Trnsp Dept': 26, 'Captain 3': 9, 'Asst Chf of Dept (Fire Dept)': 28, 'Battlion Chief, Fire Suppressi': 30, 'Assistant Deputy Chief 2': 24, 'Transit Manager 2': 17, 'Asst Med Examiner': 17, 'Dep Chf of Dept (Fire Dept)': 27, 'Executive Contract Employee': 27, 'Captain, Fire Suppression': 25, 'Deputy Chief 3': 14, 'Adm, SFGH Medical Center': 24, 'Controller': 10, 'Mayor': 5, 'Firefighter': 11, 'Anesthetist': 11, 'Senior Physician Specialist': 27, 'Nursing Supervisor Psychiatric': 30, 'Dep Dir for Investments, Ret': 28, 'Manager VIII, MTA': 17, 'Port Director': 13, 'Lieutenant 3': 12, 'Incident Support Specialist': 27, 'District Attorney': 17, 'Manager VIII': 12, 'Dep Dir V': 9, 'Emergency Medical Svcs Chief': 28, 'Nursing Supervisor': 18, 'Deputy Dir II, MTA': 18, 'Captain, Emergency Med Svcs': 27, 'Dept Head IV': 12, 'Cfdntal Chf Atty 2,(Cvl&Crmnl)': 30, 'Commander 3': 11, 'City Attorney': 13, 'Inspector 3': 11, 'Nurse Manager': 13, 'Human Resources Director': 24, 'Lieut,Fire Prev': 15, 'Police Officer 3': 16, 'Supervising Physician Spec': 26, 'Special Assistant 22': 20, 'Dept Head III': 13, 'Sergeant 3': 10, 'Forensic Toxicologist': 21, 'Chief Atty1 (Civil & Criminal)': 30, 'Transit Supervisor': 18, 'Public Defender': 15, 'Wire Rope Cable Maint Sprv': 26, 'Nurse Practitioner': 18, 'Dep Dir IV': 10, 'Insp, Fire Dept': 15, 'Pharmacist': 10, 'Chf Prob Ofc, Juv Court': 23, 'Chief Adult Probation Officer': 29, 'Deputy Dir I, MTA': 17, 'Assistant Chief Attorney 2': 26, 'Manager I': 9, 'Court Executive Officer': 23, 'Sheriff (SFERS)': 15, 'Dir Emp Relations Div': 21, 'Police Officer 2': 16, 'Manager VII': 11, 'Registered Nurse': 16, 'Assistant Chief Attorney 1': 26, 'Project Manager 4': 17, 'Invstgtor,Fire Dept': 19, 'Sergeant, (Police Department)': 29, 'Manager V': 9, 'Physician Assistant': 19, 'Sergeant 2': 10, 'Electrical Trnst Shop Sprv 1': 28, 'Manager VI': 10, 'Dept Head I': 11, 'Fire Safety Inspector 2': 23, 'Diagnostic Imaging Tech II': 26, 'Clinical Nurse Specialist': 25, 'Dep Dir III': 11, 'Diagnostic Imaging Tech III': 27, 'Undersheriff': 12, 'Dept Head II': 12, 'Head Atty, Civil & Criminal': 27, 'Manager VII, MTA': 16, 'Mayoral Staff XVII': 18, 'Engineer/Architect Principal': 28, 'Assoc Engineer': 14, 'Assistant Sheriff': 17, 'Eng/Arch/Landscape Arch Sr': 26, 'Attorney (Civil/Criminal)': 25, 'Transmission Line Supervisor 1': 30, 'Physician Specialist': 20, 'Automotive Mechanic Sprv 1': 26, 'Engineer': 8, 'Train Controller': 16, 'Electrical Transit System Mech': 30, \"Sheriff's Lieutenant\": 20, 'Asst Chf Prob Ofc, Juv Prob': 27, 'IS Manager': 10, 'Clinical Pharmacist': 19, 'Chief Deputy Sheriff': 20, 'Electrl Trnst Mech, Asst Sprv': 29, 'Assistant Inspector 3': 21, 'Attorney, Tax Collector': 23, 'Automotive Mechanic': 19, 'Marine Engineer of Fire Boats': 29, 'Board Scty, MTA': 15, 'Heating/Ventilating Inspector': 29, 'Assessor': 8, 'Utility Specialist': 18, 'Treasurer': 9, 'IS Business Analyst-Principal': 29, 'Project Manager 3': 17, 'Pilot of Fire Boats': 19, 'Court Commissioner': 18, 'Director, Info Tech Group': 25, 'Sr Power Generation Tech': 24, 'Senior Comm Systems Technican': 29, 'Sewage Treatment Plant Supt': 27, 'Special Assistant 21': 20, 'Manager VI, MTA': 15, 'Trans and Dist Line Worker': 26, 'Manager IV': 10, 'Law Librarian': 13, \"Sheriff's Sergeant\": 18, 'Assistant Inspector': 19, 'Wire Rope Cable Maint Mechanic': 30, 'Senior Deputy Sheriff': 21, 'Water Const&Main Supt': 21, 'Police Officer': 14, 'Dep Dir II': 10, 'Supervising Pharmacist': 22, 'IS Engineer-Principal': 21, 'Landscape Architect': 19, 'Transit Operations Specialist': 29, 'Chief Stationary Engineer': 25, 'Electr Maint Tech Asst Sprv': 27, 'Architectural Associate 1': 25, 'Landscape Architect Assoc 2': 27, 'Architect': 9, \"Sheriff's Captain\": 17, 'Utility Plumber Supervisor 2': 28, 'Bldgs & Grounds Maint Supt': 26, 'Assistant Inspector 2': 21, 'Transit Power Line Worker': 25, 'Fire Rescue Paramedic': 21, 'Communications Line Wrk Sprv 2': 30, 'Deputy Sheriff': 14, 'Utility Plumber Supervisor 1': 28, 'Manager V, MTA': 14, 'Manager III': 11, 'Lieutenant 2': 12, 'Electrician': 11, 'IS Engineer-Journey': 19, 'Transit Power Line Sprv1': 24, 'Power Generation Supervisor': 27, 'Automotive Trnst Shop Sprv 1': 28, 'Communications Systems Tech': 27, 'Trnst Power Line Wrk Sprv 2': 27, 'Airport Mechanical Maint Sprv': 29, 'Inspector, (Police Department)': 30, 'Plumbing Inspector': 18, 'Dentist': 7, 'Utility Plumber': 15, 'Transit Operator': 16, 'Sr Court Staff Attorney': 23, 'Asst Chf, Bur Clm Invest&Admin': 30, 'Court Computer Sys Manager': 26, 'Electrical Trnst Mech Sprv 1': 28, 'Public Health Nurse': 19, 'Project Manager 2': 17, 'Nurse Midwife': 13, 'Sewer Repair Supervisor': 23, 'Inspector 2': 11, 'Special Assistant 19': 20, 'Sr Light Rail Veh Equip Eng': 27, 'Manager,Employee Relations Div': 30, 'Electrician Supervisor 1': 24, 'Manager II': 10, 'IS Project Director': 19, 'Asst.Dep.Dir., Port': 19, 'Head Park Patrol Officer': 24, 'Track Maint Wrk Sprv 1': 22, 'Pr Administrative Analyst': 25, 'Asst Dir Clinical Svcs 2': 24, 'Trans Safety Specialist': 23, 'Institutional Police Sergeant': 29, 'Chief Water Service Inspector': 29, 'Architectural Associate 2': 25, 'Mayoral Staff XVI': 17, 'Power Generation Technician 2': 29, 'Manager III, MTA': 16, 'Crime Lab Mgr': 13, 'Special Assistant 16': 20, 'Stationary Engineer': 19, 'Manager IV, MTA': 15, 'Chf District Atty Investigator': 30, 'Disability Access Coordinator': 29, 'Sprv Electronic Main Tech': 25, 'Director, Fiscal Services': 25, 'Telecommunications Tech Supv': 28, 'Senior Stationary Engineer': 26, 'Water Operations Analyst': 24, 'Criminalist III': 15, 'Station Agent, Muni Railway': 27, 'Administrative Engineer': 23, 'Court Administrator': 19, 'Supt Water Treatment Fac': 24, 'Structural Engineer': 19, 'Operating Room Nurse': 20, 'Automotive Mechanic Asst Sprv': 29, 'Radiologic Tech Sprv': 20, 'Planner 5': 9, 'Mech Shop & Equip Supt': 22, 'Court Reporter Coordinator': 26, 'Airport Electrician': 19, 'Chf Statnry Eng,WtrTreat Plnt': 29, 'Fire Protection Engineer': 24, 'Chief Building Inspector': 24, 'Special Nurse': 13, 'Court Staff Attorney II': 23, 'IS Engineer-Senior': 18, 'Plumber Supervisor 1': 20, 'Operating Engineer, Universal': 29, 'Maintenance Controller': 22, 'Landscape Architect Assoc 1': 27, 'Asst Engr': 9, 'Mayoral Staff XV': 16, 'Public Relations Mgr': 20, 'Electrical Line Helper': 22, 'Chief Plumbing Inspector': 24, 'Chf Stationary Eng, Sew Plant': 29, 'Senior Electrical Inpsector': 27, 'Electrical Inspector': 20, 'Ex Asst to Ex Dir, Retirement': 29, 'Emergency Med Svcs Agency Spec': 30, 'Construction Inspector': 22, 'Automotive Body & Fender Wrk': 28, 'Sr Statnry Eng, Wtr Treat Plnt': 30, 'Principal Real Property Ofc': 27, 'Lab Svcs Mgr': 12, 'Bldg & Grounds Maint Sprv': 25, 'IS Business Analyst-Senior': 26, 'Asst Electronic Main Tech': 25, 'Electrician Supervisor 2': 24, 'Assistant Law Librarian': 23, 'Protective Services Supervisor': 30, 'Senior Building Inspector': 25, 'Transit Paint Shop Sprv1': 24, 'IS Prg Analyst-Principal': 24, 'Dep Dir I': 9, 'Traf Signal Electrician Sup II': 30, 'Chief Electrical Inspector': 26, 'Court Manager': 13, 'Electrical Line Worker': 22, 'Public SafetyComm Supv': 22, 'Auto Body & Fender Wrk Sprv 1': 29, 'Utility Plumber Apprentice': 26, 'Supervising Purchaser': 21, 'Diagnostic Imaging Tech IV': 26, 'Locksmith Supervisor 1': 22, 'Plumber': 7, 'Senior Water Service Inspector': 30, 'Senior Const Inspector': 22, 'Diagnostic Imaging Tech I': 25, 'Claims Investigator': 19, 'Contract Compliance Officer 2': 29, 'Welder': 6, 'Public SafetyComm Disp': 22, 'Director, Juvenile Hall': 23, 'Senior Occupational Therapist': 29, 'Maintenance Machinist': 21, 'Water Conservation Admin': 24, 'Director, Human Resources': 25, 'Traffic Signal Electrician': 26, 'Communication Line Sprv1': 24, 'Communications Director': 23, 'Plumber Supervisor 2': 20, 'Planner 4': 9, 'Director, Probation Services': 28, \"Med Examiner's InvestigatorIII\": 30, 'Traf Signal Electrician Sup I': 29, 'Div Director, Adult Probation': 29, 'Health Program Coordinator 3': 28, 'Sr. Stationary Eng, Sew Plant': 29, 'Senior Industrial Hygienist': 27, 'Street Repair Supervisor 2': 26, 'Safety Officer': 14, 'Perf Analyst III Project Mgr': 28, 'Airport Operations Supervisor': 29, 'Senior Housing Inspector': 24, 'Planner 4-Environmental Review': 30, 'Chief Housing Inspector': 23, 'Court Reporter': 14, 'Manager II, MTA': 15, 'Senior Plumbing Inspector': 25, 'Chief Dep Adlt Prob Of (SFERS)': 30, 'Prnpl Admin Analyst II': 22, 'Water Service Inspector': 23, 'Ex Asst to Admin, SFGH': 22, 'Building Inspector': 18, 'IS Administrator 3': 18, 'Automotive Machinist Sprv 1': 27, 'Asst Dir of Clinical Svcs 1': 27, 'Govrnmt/Publ Affairs Mgr': 24, 'Supv Chemist': 12, 'Survey Associate': 16, \"Asst Chf Dist Atty's Invstgtor\": 30, 'Chief Fire Alarm Dispatcher': 27, 'Chief Surveyor': 14, 'Automotive Machinist': 20, 'Electr Instrmntn Tech Wtr Poll': 30, 'Transit Planner 4': 17, 'Marriage, Family & Child Cnslr': 30, 'Airport Electrician Supervisor': 30, 'Fiscal Services Supervisor': 26, 'Supervising Mediator, UFCS': 26, 'Chf Victim/Witness Invstgtor': 28, 'Court Supervisor II': 19, 'Sr Environmental Hlth Insp': 26, 'Principal Personnel Analyst': 27, 'Senior Administrative Analyst': 29, 'Project Manager 1': 17, 'Airport Economic Planner': 24, 'Senior Physical Therapist': 25, 'Ct Comp App Programmer': 22, 'Mayoral Staff XIII': 18, 'Airport Safety Officer': 22, 'Mayoral Staff XIV': 17, \"Med Examiner's Investigator II\": 30, 'Asst Forensic Toxicologist 1': 28, 'Maintenance Manager': 19, 'Cable Splicer': 13, 'IS Administrator-Supervisor': 27, 'Supv Biologist': 14, 'Pr Environmental Hlth Insp': 26, 'Auto Machinist Asst Sprv': 24, 'Shelter Veterinarian': 20, 'Sewer Service Worker': 20, 'Real Estate Devt. Mgr, SFMTA': 28, 'Statnry Eng Water Treat Plant': 29, 'Carpenter Supervisor 2': 22, 'Senior Emp Relations Repres': 27, 'Maintenance Machinist Sprv 1': 28, 'Criminalist II': 14, 'Investigator/Transit Fare Supv': 30, 'Biologist III': 13, \"District Attry's Investigator\": 29, 'Sr District Atty Investigator': 29, 'Automotive Service Worker': 25, 'Stationary Eng, Sewage Plant': 28, 'Sheet Metal Supervisor 1': 24, 'Media/Security Syst Supv': 24, 'Protective Services Worker': 26, 'Steamfitter Supervisor I': 24, 'Accountant IV': 13, 'Senior Property Manager, Port': 29, 'Employment & Training Spec 6': 28, 'Line Inspector': 14, 'Pub Safety Communication Coord': 30, 'Senior Personnel Analyst': 24, 'Member, Board of Supervisors': 28, 'Hospital Elig Wrk Supervisor': 28, 'Sprv Clincal Psychologist': 25, 'Transit Manager 1': 17, 'Heavy Equipment Ops Sprv': 24, 'Special Assistant 15': 20, 'Steamfitter': 11, 'Carpenter Supervisor 1': 22, 'Principal Mgmt Analyst': 22, 'Senior Real Property Officer': 28, 'Senior Plan Checker': 19, 'Auditor III': 11, 'Director, Probate': 17, 'Ex Dir, SE Com Fac Comm': 23, 'Senior Claims Investigator': 26, 'Track Maintenance Worker': 24, 'Pharmacy Technician': 19, 'Architectural Administrator': 27, 'IS Administrator 1': 18, 'Safety Analyst': 14, 'Switch Repairer': 15, 'Institutional Police Officer': 28, 'Chemist III': 11, 'Senior Power House Operator': 27, 'Industrial Hygienist': 20, 'Crane Mechanic Supervisor': 25, 'Claims Adjuster': 15, 'Senior Street Inspector': 23, 'Pr Real Property Appraiser': 26, 'Street Environ Svcs Oprs Supv': 29, 'EEO Senior Specialist': 21, 'Pr Personal Property Auditor': 28, 'Medical Records Tech Sprv': 25, 'Maintenance Planner': 19, 'Court Interpreter Supervisor': 28, 'Materials Coordinator': 21, 'Parking Enforcement Admin': 25, 'Maritime Marketing Repr': 23, 'SrClaimsInvstgtor,Cty Atty Ofc': 30, 'Sr Community Dev Spec 2': 23, 'Principal Environ Specialist': 28, 'Pr Payroll & Personnel Clerk': 28, 'Sr Counselor, Juvenile Hall': 27, 'Counselor, Family Court Svc': 27, 'Asst Superintendent Rec': 23, 'Sprv Wastewater Cont Inspector': 30, 'Research Psychologist': 21, 'Housing Inspector': 17, 'Watershed Forester': 18, 'Ct Comp Sys Engineer II': 23, 'Sprv Prob Ofc, Juv Court': 24, 'Ct Comp App Analyst': 19, 'Truck Driver': 12, 'Coord of Citizen Involvement': 28, 'Sr Human Resources Analyst': 26, 'Occupational Therapist': 22, 'Car and Auto Painter': 20, 'Accountant III': 14, 'Water & Power Maint Sprv 1': 26, 'Sheet Metal Worker': 18, 'Elevator and Crane Technician': 29, 'Physical Therapist': 18, 'Audiologist': 11, 'Licensed Vocational Nurse': 25, \"Worker's Comp Supervisor 1\": 26, 'General Laborer Supervisor 1': 28, 'Electric Motor Repair Sprv 1': 28, 'Security Analyst': 16, 'Coord, Human Rights Comm': 24, 'Piledriver Supervisor 1': 23, 'Environmental Health Inspector': 30, 'Area Sprv Parks, Squares & Fac': 30, 'Planner 3-Environmental Review': 30, 'Clinical Psychologist': 21, 'Training Coordinator': 20, 'Planner 3': 9, 'Parking Control Officer': 23, 'Pipe Welder': 11, 'Court Invstgtor, Superior Crt': 29, 'Painter Supervisor 1': 20, 'Benefits Supervisor': 19, 'Asst Materials Coordinator': 26, 'Sr. Community Devl Spc 1': 24, 'IS Engineer-Assistant': 21, 'Bd/Comm Secretary 3': 19, 'Cement Finisher Supervisor 1': 28, 'Regulatory Specialist': 21, 'Probate Examiner': 16, 'Forester': 8, 'Sr Airport Communications Disp': 30, 'Power Plant Supervisor 1': 24, 'Sup Welfare Fraud Investigator': 30, 'Airport Communications Disp': 27, 'Track Maint Supt, Muni Railway': 30, 'Mental Health Hearing Officer': 29, 'Street Inspection Supervisor': 28, 'Emergency Services Coord IV': 27, 'Senior Health Educator': 22, 'Fusion Welder': 13, 'Transit Planner III': 19, 'Park Section Supervisor': 23, 'Soft Floor Coverer Supvr I': 26, 'Senior Real Property Appraiser': 30, 'Heavy Equip Ops Asst Sprv': 25, 'Transit Car Cleaner': 19, 'Administrative Analyst': 22, 'Deputy Probation Officer': 24, 'Senior Microbiologist': 21, 'Municipal Stadium Groundskpr': 28, 'Carpenter': 9, 'Librarian 3': 11, 'Sprv Adult Probation Ofc': 24, 'Airport Property Specialist 1': 29, 'Electric Motor Repairer': 23, 'Court Asst-Sr, Superior Court': 29, 'Program Support Analyst': 23, 'Sr Marriage, Fam & Cld Cnslr': 28, 'Ornamental Iron Wrk Sprv 1': 26, 'Claims Investigator, CA': 23, 'Social Work Specialist': 22, 'Sr Personal Property Auditor': 28, 'Sr Psychiatric Social Worker': 28, 'Wastewater Control Inspector': 28, 'Asphalt Plant Supervisor 1': 26, 'Museum Sec Supv': 15, 'Transit Car Cleaner Asst Sprv': 29, 'Media/Security Sys Spec': 23, 'Stage Electrician': 17, 'Senior Purchaser': 16, 'Property Manager, Port': 22, 'Senior Health Program Planner': 29, 'Legislative Assistant': 21, 'Pile Worker': 11, 'Real Property Manager': 21, 'Curator 4': 9, 'Biologist I/II': 14, 'IS Administrator 2': 18, 'Contract Compliance Officer 1': 29, 'Surgical Procedures Technician': 30, 'Clerk': 5, 'Chf Payroll & Personnel Clerk': 29, 'Senior Parking Control Officer': 30, 'Speech Pathologist': 18, 'Sr Public Defenders Invstgtor': 29, 'Medical Social Work Supervisor': 30, 'Psychiatric Social Worker': 25, 'Court Training Specialist': 25, 'Airport Emerg Planning Coord': 28, 'Power House Operator': 20, 'General Laborer': 15, 'IS Business Analyst': 19, 'Arborist Technician Supervisor': 30, 'Auditor II': 10, 'Food Service Mgr Administrator': 30, 'Performance Analyst II': 22, 'Administrative Services Mgr': 27, 'Epidemiologist 2': 16, 'Asst Clk, Board of Supervisors': 30, 'Airports Communications Sprv': 28, 'Patient Care Assistant': 22, 'Pr Fare Collections Receiver': 28, 'Maintenance Scheduler': 21, 'Employment & Training Spec 5': 28, 'Asst Chf Victim/Wit Invstgtor': 29, 'General Utility Mechanic': 24, 'Sr Investigator, OCC': 20, 'IS Programmer Analyst-Senior': 28, 'Counselor, Log Cabin Ranch': 26, 'Conservatorship/Case Mgt Sprv': 29, 'Sr. Environmental Spec': 22, 'Glazier Supervisor 1': 20, 'Counselor 2': 11, 'Engineering Associate 2': 23, 'Commercial Div Asst Sprv': 24, 'Secretary, Comm on the Environ': 30, 'Glazier': 7, 'Nursing Assistant': 17, 'Bricklayer': 10, 'Auto Svc Wrk Asst Sprv': 22, 'Sup Ct Admin Secretary': 22, 'Sr Payroll & Personnel Clerk': 28, 'Supervising Parts Storekeeper': 29, 'Locksmith': 9, 'Park Patrol Officer': 19, 'Aprntc Statnry Eng, Sew Plant': 29, 'Piledriver Engine Operator': 26, 'Patient Accounts Manager': 24, 'Welfare Fraud Investigator': 26, 'Pr Investigator, Tax Collector': 30, 'Feasibility Analyst, Port': 25, 'Community Police Services Aide': 30, 'Water QualityTech I/II': 22, 'Street Inspector': 16, 'Chemist I/II': 12, 'Sprv, Traffic & Street Signs': 28, 'Mgr, Unified Family Court Svcs': 30, 'Comm Pol Svcs Aide Supervisor': 29, 'Asphalt Finisher Supervisor 1': 29, 'Program Specialist Supervisor': 29, 'Mental Hlth Treatment Spec': 26, 'Real Property Appraiser': 23, 'Sr Cent Proc & Dist Tech': 24, 'Employment & Training Spec 3': 28, 'Senior Medical Social Worker': 28, 'Librarian 2 - Asian Arts': 24, 'Deputy Court Clerk III': 22, 'Training Officer': 16, 'Public Relations Officer': 24, 'Junior Engineer': 15, 'Medical Records Technician': 26, 'Traffic Sign Manager': 20, 'Main Machinist Asst Sprv': 24, 'Sr Employee Asst Counselor': 26, 'Ex Asst to the Controller': 25, 'Parking Hearing Examiner': 24, 'IS Technician-Supervisor': 24, 'Secretary, Library Commission': 29, 'Rent Board Supervisor': 21, 'Medical Evaluations Assistant': 29, 'Employee Relations Representat': 30, 'Criminal Justice Specialist 2': 29, 'Emp & Training Spec 4': 21, 'IS Trainer-Senior': 17, 'Museum Guard': 12, 'Assistant Const Inspector': 25, 'Librarian 2': 11, 'Medical Social Worker': 21, 'Principal Clerk': 15, 'Dental Hygienist': 16, 'Personnel Analyst': 17, 'Market Research Spec, Port': 26, 'Mayoral Staff XII': 17, 'Water Quality Tech III': 22, 'Child Support Officer III': 25, 'Asst Dir, Log Cabin Rnch': 24, 'Health Educator': 15, 'Victim/Witness Investigator 3': 29, 'Cfdntal Sctry to Distric Atty': 29, 'Rep, Human Rights Comm': 22, 'Power Generation Technician 1': 29, 'Nutritionist': 12, 'Invstgtor Ofc Citizen Cmplnts': 29, 'Senior Management Assistant': 27, 'Arborist Technician Supv II': 27, 'Sr General Utility Mechanic': 27, 'Executive Secretary 3': 21, 'Asst General Services Manager': 29, 'Senior Benefits Analyst': 23, 'Fingerprint Technician 3': 24, 'Senior Fiscal Technician': 24, 'Media Training Specialist': 25, 'Building Services Technician': 28, 'Roofer Supervisor 1': 19, 'Central Processing & Dist Tech': 30, 'Microbiologist': 14, 'Counselor, Juvenile Hall': 24, 'AprntcStatnry Eng,WtrTreatPlnt': 30, 'Senior Clerk Typist': 19, 'Media Production Supv': 21, 'Chief Nursery Specialist': 24, 'Executive Secretary 2': 21, \"Public Defender's Investigator\": 30, 'Rehabilitation Svcs Coord': 25, 'Painter': 7, 'Dir of Act, Therapy & Vol Svcs': 30, 'Investigator,Taxi & AccessSvcs': 30, 'Purchaser': 9, 'Specialist in Aging 2': 21, 'Chief Dietitian': 15, 'Personnel/Payroll Repres': 24, 'Pattern Maker': 13, 'IT Operations Support Admin IV': 30, 'IS Operator-Senior': 18, 'Public Health Team Leader': 25, 'Vet Laboratory Technologist': 27, 'Health Program Coordinator 2': 28, 'Communications Dispatcher 2': 27, 'Survey Assistant II': 19, 'X-Ray Laboratory Aide': 21, 'Cfdntal Sctry to City Atty': 26, 'Employee Assistance Counselor': 29, 'Watershed Keeper Supervisor': 27, 'Rep, Comm Status of Women': 25, 'Training Technician': 19, 'Health Program Planner': 22, 'Social Work Supervisor': 22, 'Ornamental Iron Worker': 22, 'Estate Investigator': 19, 'Senior Estate Investigator': 26, 'Parking Meter Repairer Sprv 1': 29, 'Eligibility Worker Supervisor': 29, 'Mayoral Staff X': 15, 'Investigator, Tax Collector': 27, 'Cook': 4, 'Program Specialist': 18, 'Recreation Supervisor': 21, 'Patient Accounts Supervisor': 27, 'Physical Therapist Assistant': 28, 'Sr Fare Collections Receiver': 28, 'Emergency Planning Coordinator': 30, 'Assistant Industrial Hygienist': 30, 'Planner 2': 9, 'Transit Planner 2': 17, \"Worker's Compensation Adjuster\": 30, 'EEO Programs Specialist': 23, 'Engineering Associate 1': 23, 'Environmental Spec': 18, 'Parts Storekeeper': 17, 'Librarian 1': 11, 'Hospital Eligiblity Worker': 26, 'Court Clerk': 11, 'Health Care Analyst': 19, 'IS Trainer-Journey': 18, 'IS Operator-Journey': 19, 'Sctry, Bldg Inspection Comm': 27, 'IS Business Analyst-Assistant': 29, 'Legal Assistant': 15, 'Utility Analyst': 15, 'Architectural Assistant 2': 25, 'Med Staff Svcs Dept Anl': 23, 'Personal Property Auditor': 25, 'Apprentice Stationary Engineer': 30, 'Mayoral Staff XI': 16, 'Payroll Clerk': 13, 'Customer Service Agent Supv': 27, 'Assoc Musm Cnsrvt, AAM': 22, 'Arborist Technician': 19, 'Prpl Permit and Citation Clerk': 30, 'Mayoral Staff IX': 16, 'Secretary, Health Commission': 28, 'Psychiatric Technician': 22, 'Eligibility Worker': 18, 'Integrated Pest Mgmt Specialst': 30, 'Senior Personnel Clerk': 22, 'Roofer': 6, 'Dietitian': 9, 'Senior Social Worker': 20, 'Court Asst., Superior Court': 27, 'Chief Clerk': 11, 'Secretary 1': 11, 'Fare Collections Receiver': 25, 'Soft Floor Coverer': 18, 'Senior Clerk': 12, 'Senior Eligibility Worker': 25, 'Porter Supervisor 1': 19, 'Gardener': 8, \"Med Examiner's Investigator I\": 29, 'Sewer Maintenance Worker': 24, 'Assistant Retirement Analyst': 28, 'Legal Secretary 2': 17, 'Janitorial Svcs Asst Sprv': 25, 'Community Development Spec': 26, 'Wharfinger 2': 12, 'Curator 3': 9, 'Customer Service Agent': 22, 'Pharmacy Helper': 15, 'Hodcarrier': 10, 'Emp & Training Spec 2': 21, 'Custodial Assistant Supervisor': 30, 'Patient Accounts Asst Sprv': 26, 'Watershed Keeper': 16, 'Illustrator and Art Designer': 28, 'Environmental Hlth Tech 2': 25, 'Senior Museum Registrar': 23, 'Animal Care Supervisor': 22, 'IS Programmer Analyst': 21, 'Survey Assistant I': 18, 'Materials Testing Aide': 22, 'Principal Account Clerk': 23, 'Court Administrative Secretary': 30, 'Events & Facilities Specialist': 30, 'Mail & Reproduction Svc Sprv': 28, 'Transit Fare Inspector': 22, 'Management Assistant': 20, 'IS Technician-Senior': 20, 'Court Supervisor I': 18, 'Senior Parts Storekeeper': 24, 'Traffic Survey Technician': 25, 'Assistant Health Educator': 25, 'Forensic Laboratory Technician': 30, 'Research Asst, Superior Court': 29, 'Accountant II': 13, 'Chief Preparator': 16, 'Document Examiner Technician': 28, 'Volunteer/Outreach Coord': 24, 'Health Worker 4': 15, 'Dist Atty Investigator (SFERS)': 30, 'Deputy Court Clerk II': 21, 'Assistant Storekeeper': 21, 'Library Technical Assistant 2': 29, 'Principal Parts Storekeeper': 27, 'Citizens Complaint Officer': 26, 'Security Guard': 14, 'Court Interpreter': 17, 'Principal Water Services Clerk': 30, 'Chef': 4, 'Victim/Witness Investigator 2': 29, 'Custodial Supervisor': 20, 'Fiscal Technician': 17, 'Public Information Officer': 26, 'Window Cleaner': 14, 'Epidemiologist 1': 16, 'Materials Testing Technician': 28, 'Senior Transit Traffic Checker': 30, 'Window Cleaner Supervisor': 25, 'Rehabilitation Counselor': 24, 'Cement Mason': 12, 'Legal Secretary 1': 17, 'Deputy Probation Officer SFERS': 30, 'Nursery Specialist': 18, 'Water Meter Repairer': 20, 'Health Program Coordinator 1': 28, 'Collection Supervisor': 21, 'Fingerprint Technician 2': 24, 'Nurses Staffing Assistant': 25, 'Child Support Officer II': 24, 'Architectural Assistant 1': 25, 'Graphics Supervisor': 19, 'Legislation Clerk': 17, 'Executive Secretary 1': 21, 'Tile Setter': 11, 'DA Investigative Assist': 23, 'Aquatics Facility Supervisor': 28, 'Curator 2': 9, 'Library Technical Assistant 1': 29, 'Acupuncturist': 13, 'Benefits Analyst': 16, 'Assistant Purchaser': 19, 'Snr Permit and Citation Clerk': 29, 'Forensic Autopsy Technician': 27, 'Patient Accounts Clerk': 22, 'Janitorial Services Supervisor': 30, 'Porter': 6, 'IS Program Analyst-Assistant': 28, 'Therapy Aide': 12, 'Depty Sealer of Weights & Meas': 30, 'IS Operator-Analyst': 19, 'Stores & Equip Asst Sprv': 24, 'Field Svcs Asst Supv': 20, 'Parking Meter Repairer': 22, 'Food Service Supervisor': 23, 'Senior Collections Officer': 26, 'Storekeeper': 11, 'Airport Noise Abatement Spec': 28, 'Asphalt Worker': 14, 'Permit and Citation Clerk': 25, 'Secretary 2': 11, 'Senior Book Repairer': 20, 'Senior Legal Process Clerk': 26, 'Medical Records Clerk': 21, 'Engineering Assistant': 21, 'Health Care Billing Clerk 2': 27, 'Health Worker 3': 15, 'Senior Pharmacy Helper': 22, 'Senior Psychiatric Orderly': 26, 'Senior Morgue Attendant': 23, 'Media Programming Spec': 22, 'Asphalt Finisher': 16, 'Disease Control Investigator': 28, 'Health Worker 2': 15, 'Planner 1': 9, 'IS Technical-Journey': 20, 'Employment & Training Spec 1': 28, 'Senior Water Services Clerk': 27, 'Accountant I': 12, 'Transit Traffic Checker': 23, 'Senior Account Clerk': 20, 'Electroencephalograph Tech 1': 28, 'Personnel Technician': 20, 'Environmental Hlth Tech 1': 25, 'Respiratory Care Practitioner': 29, 'Research Assistant': 18, 'Junior Administrative Analyst': 29, 'Metalsmith': 10, 'Dental Aide': 11, 'Industrial Injury Investigator': 30, 'Baker': 5, 'Victim/Witness Investigator 1': 29, 'Urban Forestry Inspector': 24, 'Unit Clerk': 10, 'Criminalist I': 13, 'Environmental Assistant': 23, 'ASR Senior Office Specialist': 28, 'Supv Bldg Grounds Patrol Ofcr': 29, 'Senior Storekeeper': 18, 'Junior Management Assistant': 27, 'Custodian': 9, 'Shelter Officer Supervisor': 26, 'Senior Food Service Supervisor': 30, 'IS Trainer-Assistant': 20, 'Sign Worker': 11, 'Health Worker 1': 15, 'Patient Svcs Finance Tech': 25, 'Animal Control Officer': 22, 'Bldg & Grounds Patrol Officer': 29, 'Senior Laundry Worker': 21, 'Court Alternative Specialist 1': 30, 'Communications Dispatcher 1': 27, 'Social Worker': 13, 'Orthopedic Technician 2': 23, 'Animal Keeper': 13, 'Transit Information Clerk': 25, 'Community Development Asst': 26, 'Arts Program Assistant': 22, 'Senior Unit Clerk': 17, 'Human Services Technician': 25, 'Med Staff Svcs Dept Spc': 23, 'Museum Registrar': 16, 'Medical Transcriber Typist': 26, 'Elections Worker': 16, 'Senior Telephone Operator': 25, 'Assistant Counselor': 19, 'Collections Officer': 19, 'Clerk Typist': 12, 'Sprv Adult Prob Ofc (SFERS)': 27, 'Admin Analyst 3': 15, 'Recreation Coordinator': 22, 'Chief Telephone Operator': 24, 'Sr Medical Transcriber Typist': 29, 'Public Service Trainee': 22, 'Swimming Instr/Pool Lifeguard': 29, 'Administrative Analyst II': 25, 'Inspector, Weights & Measures': 29, 'Food Service Worker': 19, 'Mayoral Staff V': 15, 'Principal Museum Preparator': 27, 'Library Assistant': 17, 'Laboratory Technician II': 24, 'Farmer': 6, 'Account Clerk': 13, 'Offset Machine Operator': 23, 'Mobile Equipment Supervisor': 27, 'Meter Reader': 12, 'Photographer': 12, 'Inventory Clerk': 15, 'Media Production Tech': 21, 'Assessor-Recorder Office Spec': 29, 'Porter Assistant Supervisor': 27, 'Marina Assistant Manager': 24, 'Benefits Technician': 19, 'Health Care Billing Clerk 1': 27, 'Mayoral Staff VII': 17, 'Fingerprint Technician 1': 24, 'Transcriber Typist': 18, 'Recreation Specialist': 21, 'Sr. Microphoto/Imaging Tech.': 28, 'Shelter Service Rep': 19, 'Elections Clerk': 15, 'Curator 1': 9, 'Planner Technician': 18, 'Senior Museum Preparator': 24, 'Graphic Artist': 14, 'Agricultural Inspector': 22, 'Cashier 1': 9, 'Shelter Office Asst Supv': 24, 'Claims Process Clerk': 20, 'Assistant Cook': 14, 'Senior Offset Machine Operator': 30, 'Animal Care Asst Supv': 21, 'Animal Care Attendant': 21, 'Youth Comm Advisor': 18, 'Cashier 2': 9, 'Shade and Drapery Worker': 24, 'Sr Materials & Supplies Sprv': 28, 'Crafts Instructor': 17, 'Dietetic Technician': 19, 'Legal Process Clerk': 19, 'Admission Attendant': 19, 'Accountant Intern': 17, 'Associate Museum Registrar': 26, 'Stable Attendant': 16, 'Personnel Clerk': 15, 'PrDAInvest,SpecUnit (SFERS)': 27, 'Lighting Fixture Maint Worker': 29, 'Braillist': 9, 'Chief Deputy Adlt Probation Of': 30, 'Head Airport Electrician': 24, 'Telephone Operator': 18, 'Head Photographer': 17, 'Laboratory Technician I': 23, 'ASR-Office Assistant': 20, 'Assessment Clerk': 16, 'Senior Food Service Worker': 26, 'Museum Preparator': 17, 'Senior Maintenance Controller': 29, 'Book Repairer': 13, 'Sheet Metal Wrk Supervisor 2': 28, 'Senior Transcriber Typist': 25, 'Aquatics Facility Asst Supv': 27, 'Housekeeper/Food Service Clnr': 29, \"Sheriff's Cadet\": 15, 'Special Assistant 3': 19, 'Institution Utility Worker': 26, 'Materials/Supplies Supervisor': 29, 'Home Health Aide': 16, 'Public Relations Assistant': 26, 'Apprentice Gardener': 19, 'Supply Room Attendant': 21, 'Sctry, Juv Probation Comm': 25, 'Library Page': 12, 'Assistant Power House Operator': 30, 'Junior Clerk Typist': 19, 'Special Assistant 14': 20, 'Microphoto/Imaging Technician': 29, 'Junior Clerk': 12, 'Child Care Specialist': 21, 'Beautician': 10, 'StdntDsgnTrain3, Arch/Eng/Plng': 30, 'StdntDsgnTrain1, Arch/Eng/Plng': 30, 'Sr Opers Mgr': 12, 'Sr Transit Information Clerk': 28, 'Morgue Attendant': 16, 'PS Aide to Prof': 15, 'Traffic Signal Operator': 23, 'Ct Comp Facilities Coord': 24, 'Mayoral Staff II': 16, 'Victim & Witness Technician': 27, 'Fire Alarm Dispatcher': 21, 'Police Services Aide': 20, 'Assistant Director, Probate': 27, 'Public Service Aide-Admin': 25, 'Building Plans Engineer': 23, 'Painter Supervisor 2': 20, 'Publ Svc Aide-Asst to Prof': 26, 'Legislative Calendar Clerk': 26, 'Public Svc Aide-Public Works': 28, 'PS Aide Health Services': 23, 'Court Paralegal': 15, 'Animal Health Technician': 24, 'Environmental Service Worker': 28, 'StdntDsgn Train2/Arch/Eng/Plng': 30, 'Principal Recreation Sprv': 25, 'Statistician': 12, 'Senior Assessment Clerk': 23, 'Signal and Systems Engineer': 27, 'Mayoral Staff IV': 16, 'Dir, Log Cabin Ranch (SFERS)': 28, 'Superior Court Judge': 20, 'Audiometrist': 12, 'Legislative Asst City Atty Ofc': 30, 'Swimming Instructor': 19, 'Asst Director, Juvenile Hall': 28, 'Sctry, Human Svcs. Commission': 29, 'Deputy Sheriff 1': 16, 'Customer Service Agent Trainee': 30, 'Wharfinger 1': 12, \"Sheriff's Property Keeper\": 25, 'Recreation Leader': 17, 'Pr DistAtty Invstgtor,SpecUnit': 30, 'Counselor, Juvenile Hall SFERS': 30, 'Counselor,Log Cabin Rnch SFERS': 30, 'Pool Lifeguard': 14, 'Special Assistant 10': 20, 'Sheriff': 7, 'Special Assistant 13': 20, 'Watershed Worker (Seasonal)': 27, 'City Planning Intern': 20, 'Senior Data Entry Operator': 26, 'School Crossing Guard': 21, 'Orthopedic Technician 1': 23, 'Special Assistant 18': 20, 'Pianist': 7, 'Commissioner No Benefits': 24, 'Recreation Director': 19, 'Testing Technician': 18, 'Special Examiner': 16, 'Brd Comm Mbr, M=$200/Mtg': 24, 'Child Support Officer I': 23, 'Camp Assistant': 14, 'Animal Control Supervisor': 25, 'Musm Exhibit Packer & Repairer': 30, 'Administrative Analyst I': 24, 'Special Assistant 8': 19, 'Assistant Recreation Director': 29, 'BdComm Mbr, Grp5,M$100/Mo': 25, 'Barber': 6, 'Public Service Aide-Technical': 29, 'BdComm Mbr, Grp3,M=$50/Mtg': 26, 'BdComm Mbr, Grp2,M=$25/Mtg': 26, 'Battalion Chief, Fire Suppress': 30, 'Administrator, DPH': 18, 'Capt,Fire Prev or Fire Invsgtn': 30, 'Electrical Transit Shop Sprv 1': 30, 'Managing Attorney': 17, 'Civil Case Settlmnt Specialist': 30, 'IT Operations Support Admin II': 30, 'IT Operations Support Admin V': 29, 'Transit Power Cable Splicer': 27, 'City Shops Asst Superintendent': 30, 'Industrial Engineer': 19, 'Emergency Services Coord III': 28, 'Duty Officer': 12, 'Admin Hearing Examiner': 22, 'Transit Fare Insp. Sup/Invst.': 29, 'IT Operations Support Admn III': 30, 'Cement Finisher Supervisor 2': 28, 'Payroll Supervisor': 18, 'IT Operations Support Admin I': 29, 'Airport Communications Officer': 30, 'Media Production Specialist': 27, 'Emergency Services Coord I': 26, 'Water Meter Shop Supervisor 1': 29, 'Emergency Services Coord II': 27, 'Auditor I': 9, 'Deputy Court Clerk I': 20, 'Performance Analyst I': 21, 'Mgr Museum Security Services': 28, 'Captain, (Fire Department)': 26, 'Emergency Services Assistant': 28, 'Commissioner 16.700c, No Pay': 28, 'Public Safety Comm Tech': 23, 'Drug Court Coordinator': 22, 'IS Technician Assistant': 23, 'Chief Investment Officer': 24, 'Manager, Dept Public Health': 27, 'Chief Forensic Toxicologist': 27, 'Lieutenant (Police Department)': 30, 'Deputy Sheriff (SFERS)': 22, 'Undersheriff (SFERS)': 20, 'Light Rail Vehicle Equip Eng': 28, 'Electrician Supervisor II': 25, 'Transportation Planner IV': 25, 'HSA Sr Eligibility Worker': 25, 'Transportation Planner III': 26, 'Sr Sprv Prob Ofc, Juv Prob': 26, 'Biologist': 9, 'Administrative Hearing Sup': 26, 'Chemist': 7, 'HH Mechanical Shop Sprv': 23, 'Auto Body&Fender Wrk Asst Sprv': 30, 'Instructional Designer': 22, 'Transportation Planner II': 25, 'Water Quality Technician': 24, 'HSA Emp & Training Spec II': 26, 'HSA Social Worker': 17, 'Legislative Clerk': 17, 'Sen Hospital Eligibility Wrkr': 29, 'Marina Assistant': 16, 'Special Assistant 11': 20, 'Hospital Eligibility Worker': 27, 'Personnel Trainee': 17, 'ACPO,JuvP, Juv Prob (SFERS)': 27, 'Apprentice Cement Mason I': 25, 'Marina Associate Manager': 24, 'Sr Cnselor, Juv Hall (SFERS)': 28, 'Forensic Toxicologist Supervis': 30, 'Conversion': 10, 'Cashier 3': 9, 'Not provided': 12}\n"
     ]
    }
   ],
   "source": [
    "title_length = {}\n",
    "\n",
    "for title in sal['JobTitle']:\n",
    "    title_length[title] = len(title)\n",
    "    \n",
    "print(title_length) "
   ]
  },
  {
   "cell_type": "code",
   "execution_count": 54,
   "metadata": {},
   "outputs": [],
   "source": [
    "#something with .corr(), can't figure out how to compare dict \"title_length\" to dataframe \"sal\"\n"
   ]
  },
  {
   "cell_type": "markdown",
   "metadata": {},
   "source": [
    "# Great Job!"
   ]
  }
 ],
 "metadata": {
  "kernelspec": {
   "display_name": "Python 3 (ipykernel)",
   "language": "python",
   "name": "python3"
  },
  "language_info": {
   "codemirror_mode": {
    "name": "ipython",
    "version": 3
   },
   "file_extension": ".py",
   "mimetype": "text/x-python",
   "name": "python",
   "nbconvert_exporter": "python",
   "pygments_lexer": "ipython3",
   "version": "3.9.13"
  }
 },
 "nbformat": 4,
 "nbformat_minor": 1
}
